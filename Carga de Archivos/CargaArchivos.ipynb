{
 "cells": [
  {
   "cell_type": "code",
   "execution_count": 2,
   "id": "e9186c5f",
   "metadata": {},
   "outputs": [],
   "source": [
    "import numpy as np\n",
    "import pandas as pd\n",
    "import time"
   ]
  },
  {
   "cell_type": "code",
   "execution_count": 3,
   "id": "910b64d1",
   "metadata": {},
   "outputs": [
    {
     "data": {
      "application/vnd.microsoft.datawrangler.viewer.v0+json": {
       "columns": [
        {
         "name": "index",
         "rawType": "int64",
         "type": "integer"
        },
        {
         "name": "0",
         "rawType": "int64",
         "type": "integer"
        },
        {
         "name": "1",
         "rawType": "int64",
         "type": "integer"
        },
        {
         "name": "2",
         "rawType": "int64",
         "type": "integer"
        },
        {
         "name": "3",
         "rawType": "int64",
         "type": "integer"
        },
        {
         "name": "4",
         "rawType": "int64",
         "type": "integer"
        },
        {
         "name": "5",
         "rawType": "int64",
         "type": "integer"
        },
        {
         "name": "6",
         "rawType": "int64",
         "type": "integer"
        },
        {
         "name": "7",
         "rawType": "int64",
         "type": "integer"
        },
        {
         "name": "8",
         "rawType": "int64",
         "type": "integer"
        },
        {
         "name": "9",
         "rawType": "int64",
         "type": "integer"
        }
       ],
       "ref": "4e7d234b-543c-44fd-abfe-1f22729c77aa",
       "rows": [
        [
         "0",
         "78",
         "73",
         "45",
         "47",
         "91",
         "82",
         "30",
         "41",
         "85",
         "79"
        ],
        [
         "1",
         "84",
         "6",
         "22",
         "34",
         "68",
         "17",
         "96",
         "75",
         "1",
         "83"
        ],
        [
         "2",
         "76",
         "38",
         "18",
         "78",
         "26",
         "92",
         "63",
         "61",
         "43",
         "51"
        ],
        [
         "3",
         "80",
         "30",
         "60",
         "74",
         "31",
         "100",
         "52",
         "10",
         "62",
         "45"
        ],
        [
         "4",
         "69",
         "82",
         "88",
         "9",
         "63",
         "67",
         "93",
         "89",
         "20",
         "39"
        ],
        [
         "5",
         "63",
         "92",
         "10",
         "98",
         "68",
         "80",
         "85",
         "12",
         "18",
         "12"
        ],
        [
         "6",
         "45",
         "97",
         "10",
         "88",
         "22",
         "85",
         "81",
         "76",
         "48",
         "51"
        ],
        [
         "7",
         "87",
         "81",
         "97",
         "29",
         "26",
         "100",
         "71",
         "29",
         "15",
         "94"
        ],
        [
         "8",
         "96",
         "44",
         "12",
         "19",
         "31",
         "10",
         "67",
         "62",
         "43",
         "92"
        ],
        [
         "9",
         "64",
         "27",
         "31",
         "57",
         "9",
         "2",
         "2",
         "64",
         "19",
         "36"
        ],
        [
         "10",
         "27",
         "17",
         "51",
         "87",
         "90",
         "5",
         "3",
         "96",
         "69",
         "53"
        ],
        [
         "11",
         "0",
         "80",
         "44",
         "7",
         "14",
         "43",
         "21",
         "70",
         "96",
         "31"
        ],
        [
         "12",
         "5",
         "2",
         "95",
         "100",
         "43",
         "36",
         "11",
         "60",
         "64",
         "31"
        ],
        [
         "13",
         "78",
         "20",
         "69",
         "77",
         "52",
         "47",
         "16",
         "13",
         "98",
         "10"
        ],
        [
         "14",
         "33",
         "78",
         "84",
         "2",
         "89",
         "83",
         "52",
         "26",
         "55",
         "65"
        ],
        [
         "15",
         "52",
         "5",
         "27",
         "63",
         "61",
         "86",
         "38",
         "19",
         "74",
         "61"
        ],
        [
         "16",
         "16",
         "75",
         "4",
         "74",
         "2",
         "20",
         "0",
         "45",
         "58",
         "68"
        ],
        [
         "17",
         "97",
         "21",
         "10",
         "1",
         "0",
         "84",
         "52",
         "78",
         "14",
         "87"
        ],
        [
         "18",
         "38",
         "48",
         "38",
         "3",
         "43",
         "96",
         "3",
         "41",
         "58",
         "6"
        ],
        [
         "19",
         "53",
         "42",
         "87",
         "10",
         "91",
         "91",
         "11",
         "39",
         "32",
         "26"
        ],
        [
         "20",
         "47",
         "52",
         "86",
         "10",
         "95",
         "5",
         "79",
         "72",
         "68",
         "28"
        ],
        [
         "21",
         "63",
         "45",
         "84",
         "25",
         "10",
         "0",
         "33",
         "92",
         "61",
         "27"
        ],
        [
         "22",
         "75",
         "49",
         "14",
         "72",
         "98",
         "72",
         "18",
         "2",
         "10",
         "71"
        ],
        [
         "23",
         "21",
         "14",
         "91",
         "24",
         "77",
         "90",
         "59",
         "62",
         "53",
         "18"
        ],
        [
         "24",
         "47",
         "77",
         "29",
         "68",
         "12",
         "29",
         "79",
         "4",
         "37",
         "87"
        ],
        [
         "25",
         "78",
         "95",
         "15",
         "4",
         "25",
         "5",
         "81",
         "39",
         "24",
         "2"
        ],
        [
         "26",
         "13",
         "79",
         "99",
         "78",
         "42",
         "74",
         "47",
         "90",
         "12",
         "88"
        ],
        [
         "27",
         "81",
         "24",
         "41",
         "0",
         "25",
         "44",
         "78",
         "30",
         "38",
         "33"
        ],
        [
         "28",
         "2",
         "78",
         "41",
         "12",
         "2",
         "42",
         "41",
         "13",
         "62",
         "7"
        ],
        [
         "29",
         "17",
         "1",
         "94",
         "49",
         "46",
         "43",
         "30",
         "38",
         "75",
         "63"
        ],
        [
         "30",
         "13",
         "23",
         "36",
         "67",
         "49",
         "59",
         "14",
         "14",
         "90",
         "97"
        ],
        [
         "31",
         "0",
         "46",
         "9",
         "39",
         "29",
         "8",
         "46",
         "65",
         "46",
         "67"
        ],
        [
         "32",
         "13",
         "100",
         "95",
         "14",
         "58",
         "76",
         "79",
         "39",
         "40",
         "30"
        ],
        [
         "33",
         "98",
         "95",
         "62",
         "4",
         "16",
         "23",
         "99",
         "14",
         "61",
         "60"
        ],
        [
         "34",
         "92",
         "2",
         "97",
         "78",
         "32",
         "50",
         "8",
         "81",
         "25",
         "17"
        ],
        [
         "35",
         "88",
         "7",
         "53",
         "66",
         "66",
         "38",
         "43",
         "19",
         "33",
         "51"
        ],
        [
         "36",
         "54",
         "31",
         "100",
         "36",
         "68",
         "19",
         "48",
         "31",
         "97",
         "73"
        ],
        [
         "37",
         "80",
         "92",
         "73",
         "36",
         "31",
         "14",
         "59",
         "57",
         "50",
         "72"
        ],
        [
         "38",
         "40",
         "64",
         "55",
         "78",
         "23",
         "98",
         "70",
         "67",
         "90",
         "48"
        ],
        [
         "39",
         "89",
         "7",
         "5",
         "26",
         "73",
         "3",
         "95",
         "80",
         "36",
         "96"
        ],
        [
         "40",
         "72",
         "17",
         "80",
         "11",
         "28",
         "1",
         "43",
         "81",
         "31",
         "54"
        ],
        [
         "41",
         "33",
         "85",
         "37",
         "45",
         "35",
         "33",
         "52",
         "74",
         "7",
         "44"
        ],
        [
         "42",
         "35",
         "7",
         "27",
         "53",
         "78",
         "2",
         "84",
         "38",
         "2",
         "9"
        ],
        [
         "43",
         "28",
         "57",
         "52",
         "68",
         "93",
         "23",
         "18",
         "21",
         "75",
         "25"
        ],
        [
         "44",
         "33",
         "61",
         "100",
         "88",
         "55",
         "92",
         "50",
         "57",
         "40",
         "29"
        ],
        [
         "45",
         "76",
         "67",
         "28",
         "66",
         "28",
         "79",
         "91",
         "82",
         "27",
         "95"
        ],
        [
         "46",
         "83",
         "11",
         "31",
         "25",
         "20",
         "5",
         "51",
         "29",
         "48",
         "50"
        ],
        [
         "47",
         "39",
         "12",
         "67",
         "87",
         "65",
         "23",
         "15",
         "45",
         "88",
         "46"
        ],
        [
         "48",
         "2",
         "29",
         "18",
         "6",
         "22",
         "76",
         "2",
         "7",
         "17",
         "56"
        ],
        [
         "49",
         "36",
         "97",
         "84",
         "83",
         "41",
         "73",
         "62",
         "12",
         "41",
         "8"
        ]
       ],
       "shape": {
        "columns": 10,
        "rows": 500000
       }
      },
      "text/plain": [
       "array([[78, 73, 45, ..., 41, 85, 79],\n",
       "       [84,  6, 22, ..., 75,  1, 83],\n",
       "       [76, 38, 18, ..., 61, 43, 51],\n",
       "       ...,\n",
       "       [18, 97, 63, ..., 13, 71, 14],\n",
       "       [51, 46, 80, ..., 64, 63,  9],\n",
       "       [91, 56, 26, ..., 28, 97, 34]], shape=(500000, 10))"
      ]
     },
     "execution_count": 3,
     "metadata": {},
     "output_type": "execute_result"
    }
   ],
   "source": [
    "matriz = np.random.randint(0, 101, (500000, 10))\n",
    "matriz"
   ]
  },
  {
   "cell_type": "code",
   "execution_count": 4,
   "id": "7e501b4f",
   "metadata": {},
   "outputs": [],
   "source": [
    "df = pd.DataFrame(matriz)"
   ]
  },
  {
   "cell_type": "code",
   "execution_count": null,
   "id": "76ef11c1",
   "metadata": {},
   "outputs": [
    {
     "name": "stdout",
     "output_type": "stream",
     "text": [
      "Tiempo de escritura en CSV: 1.1738879680633545 segundos\n"
     ]
    }
   ],
   "source": [
    "start = time.time()\n",
    "df.to_csv('../Carga de Archivos/ArchivoCSV.csv')\n",
    "end = time.time() - start\n",
    "print(f'Tiempo de escritura en CSV: {end} segundos')"
   ]
  },
  {
   "cell_type": "code",
   "execution_count": null,
   "id": "ae93b8d5",
   "metadata": {},
   "outputs": [
    {
     "name": "stdout",
     "output_type": "stream",
     "text": [
      "Tiempo de escritura en Excel: 86.58673000335693 segundos\n"
     ]
    }
   ],
   "source": [
    "start = time.time()\n",
    "df.to_excel('../Carga de Archivos/ArchivoExcel.xlsx', engine='openpyxl')\n",
    "end = time.time() - start\n",
    "print(f'Tiempo de escritura en Excel: {end} segundos')"
   ]
  },
  {
   "cell_type": "code",
   "execution_count": null,
   "id": "73ff513d",
   "metadata": {},
   "outputs": [
    {
     "name": "stdout",
     "output_type": "stream",
     "text": [
      "Tiempo de escritura en Parquet: 0.1525709629058838 segundos\n"
     ]
    }
   ],
   "source": [
    "start = time.time()\n",
    "df.to_parquet('../Carga de Archivos/ArchivoParquet.parquet', index=False, engine='pyarrow')\n",
    "end = time.time() - start\n",
    "print(f'Tiempo de escritura en Parquet: {end} segundos')"
   ]
  },
  {
   "cell_type": "markdown",
   "id": "0fd9c443",
   "metadata": {},
   "source": [
    "## Multithreading"
   ]
  },
  {
   "cell_type": "code",
   "execution_count": null,
   "id": "1994908d",
   "metadata": {},
   "outputs": [
    {
     "name": "stdout",
     "output_type": "stream",
     "text": [
      "Parquet (pyarrow): 0.282 s\n",
      "CSV: 1.098 s\n",
      "Excel (openpyxl): 65.076 s\n",
      "Tiempo total (paralelo): 65.088 s\n"
     ]
    }
   ],
   "source": [
    "import time\n",
    "from concurrent.futures import ThreadPoolExecutor, as_completed\n",
    "from pathlib import Path\n",
    "\n",
    "def run_csv():\n",
    "    t0 = time.perf_counter()\n",
    "    df.to_csv(\"../Carga de Archivos/ArchivoCSV.csv\", index=False)\n",
    "    return \"CSV\", time.perf_counter() - t0\n",
    "\n",
    "def run_excel():\n",
    "    t0 = time.perf_counter()\n",
    "    df.to_excel(\"../Carga de Archivos/ArchivoExcel.xlsx\", engine=\"openpyxl\", index=False)\n",
    "    return \"Excel (openpyxl)\", time.perf_counter() - t0\n",
    "\n",
    "def run_parquet():\n",
    "    t0 = time.perf_counter()\n",
    "    df.to_parquet(\"../Carga de Archivos/ArchivoParquet.parquet\", engine=\"pyarrow\", index=False)\n",
    "    return \"Parquet (pyarrow)\", time.perf_counter() - t0\n",
    "\n",
    "t_wall = time.perf_counter()\n",
    "with ThreadPoolExecutor(max_workers=3) as ex:\n",
    "    futures = [ex.submit(run_csv), ex.submit(run_excel), ex.submit(run_parquet)]\n",
    "    for f in as_completed(futures):\n",
    "        etiqueta, t = f.result()\n",
    "        print(f\"{etiqueta}: {t:.3f} s\")\n",
    "\n",
    "print(f\"Tiempo total (paralelo): {time.perf_counter() - t_wall:.3f} s\")"
   ]
  }
 ],
 "metadata": {
  "kernelspec": {
   "display_name": "data",
   "language": "python",
   "name": "python3"
  },
  "language_info": {
   "codemirror_mode": {
    "name": "ipython",
    "version": 3
   },
   "file_extension": ".py",
   "mimetype": "text/x-python",
   "name": "python",
   "nbconvert_exporter": "python",
   "pygments_lexer": "ipython3",
   "version": "3.13.5"
  }
 },
 "nbformat": 4,
 "nbformat_minor": 5
}
