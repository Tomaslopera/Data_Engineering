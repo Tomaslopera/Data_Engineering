{
  "cells": [
    {
      "cell_type": "markdown",
      "metadata": {
        "id": "WvYIxU6gBam-"
      },
      "source": [
        "# VannaAI\n",
        "\n",
        "Es una librería de python que permite crear código SQL a partir de texto usando algún modelo de AI.\n",
        "\n",
        "Esto se hace mediante un arquitectura llamada RAG, la cual requiere mínimo:\n",
        "\n",
        "- Base de datos vectorizada: donde se almacena la documentación relevante para el contexto.\n",
        "- LLM: lo que en este caso crea el código SQL usando la documentación obtenida del elemento anterior.\n",
        "\n",
        "\n",
        "\n",
        "GitHub: https://github.com/vanna-ai/vanna\n",
        "\n",
        "Docs: https://vanna.ai/docs/index.html\n"
      ]
    },
    {
      "cell_type": "code",
      "execution_count": null,
      "metadata": {
        "id": "Yiw7lf8cB-wK"
      },
      "outputs": [],
      "source": [
        "import sqlite3\n",
        "import pandas as pd\n",
        "from vanna.remote import VannaDefault"
      ]
    },
    {
      "cell_type": "code",
      "execution_count": null,
      "metadata": {
        "id": "Zdk3O3qfCXNz"
      },
      "outputs": [],
      "source": [
        "# https://vanna.ai/account/profile\n",
        "api_key = '' # api key que entrega vanna para el uso de LLM\n",
        "vanna_model_name = 'test_de' # el nombre de la base de datos\n",
        "vn = VannaDefault(model=vanna_model_name, api_key=api_key)"
      ]
    },
    {
      "cell_type": "markdown",
      "metadata": {
        "id": "jikCF7mgDR0g"
      },
      "source": [
        "Para \"entrenar\" podemos utilizar 3 cosas:\n",
        "\n",
        "- DDL: definición de las tablas.\n",
        "- Question/SQL: Pregunta con su respectiva respuesta en SQL.\n",
        "- Documentación: contexto adicional a modo de texto."
      ]
    },
    {
      "cell_type": "code",
      "execution_count": 15,
      "metadata": {
        "colab": {
          "base_uri": "https://localhost:8080/",
          "height": 196
        },
        "id": "1c-vtP3XDIIE",
        "outputId": "c82faf2c-1cb9-4683-b36a-adbcd2125d31"
      },
      "outputs": [
        {
          "name": "stdout",
          "output_type": "stream",
          "text": [
            "Adding ddl: \n",
            "CREATE TABLE clientes (\n",
            "    cliente_id    INTEGER PRIMARY KEY,\n",
            "    nombre        TEXT    NOT NULL,\n",
            "    ciudad        TEXT,\n",
            "    edad          INTEGER,\n",
            "    fecha_registro DATE\n",
            ")\n",
            "\n"
          ]
        },
        {
          "ename": "Exception",
          "evalue": "('Error adding DDL', {'error': {'code': -32600, 'message': 'Invalid Request: No key'}, 'jsonrpc': '2.0'})",
          "output_type": "error",
          "traceback": [
            "\u001b[31m---------------------------------------------------------------------------\u001b[39m",
            "\u001b[31mException\u001b[39m                                 Traceback (most recent call last)",
            "\u001b[36mCell\u001b[39m\u001b[36m \u001b[39m\u001b[32mIn[15]\u001b[39m\u001b[32m, line 1\u001b[39m\n\u001b[32m----> \u001b[39m\u001b[32m1\u001b[39m \u001b[43mvn\u001b[49m\u001b[43m.\u001b[49m\u001b[43mtrain\u001b[49m\u001b[43m(\u001b[49m\n\u001b[32m      2\u001b[39m \u001b[43m    \u001b[49m\u001b[43mddl\u001b[49m\u001b[43m=\u001b[49m\u001b[33;43m\"\"\"\u001b[39;49m\n\u001b[32m      3\u001b[39m \u001b[33;43mCREATE TABLE clientes (\u001b[39;49m\n\u001b[32m      4\u001b[39m \u001b[33;43m    cliente_id    INTEGER PRIMARY KEY,\u001b[39;49m\n\u001b[32m      5\u001b[39m \u001b[33;43m    nombre        TEXT    NOT NULL,\u001b[39;49m\n\u001b[32m      6\u001b[39m \u001b[33;43m    ciudad        TEXT,\u001b[39;49m\n\u001b[32m      7\u001b[39m \u001b[33;43m    edad          INTEGER,\u001b[39;49m\n\u001b[32m      8\u001b[39m \u001b[33;43m    fecha_registro DATE\u001b[39;49m\n\u001b[32m      9\u001b[39m \u001b[33;43m)\u001b[39;49m\n\u001b[32m     10\u001b[39m \u001b[33;43m\"\"\"\u001b[39;49m\n\u001b[32m     11\u001b[39m \u001b[43m)\u001b[49m\n",
            "\u001b[36mFile \u001b[39m\u001b[32m~/Documents/WorkSpace/Universidad/Ingenieria de Datos/.venv/lib/python3.13/site-packages/vanna/base/base.py:1840\u001b[39m, in \u001b[36mVannaBase.train\u001b[39m\u001b[34m(self, question, sql, ddl, documentation, plan)\u001b[39m\n\u001b[32m   1838\u001b[39m \u001b[38;5;28;01mif\u001b[39;00m ddl:\n\u001b[32m   1839\u001b[39m     \u001b[38;5;28mprint\u001b[39m(\u001b[33m\"\u001b[39m\u001b[33mAdding ddl:\u001b[39m\u001b[33m\"\u001b[39m, ddl)\n\u001b[32m-> \u001b[39m\u001b[32m1840\u001b[39m     \u001b[38;5;28;01mreturn\u001b[39;00m \u001b[38;5;28;43mself\u001b[39;49m\u001b[43m.\u001b[49m\u001b[43madd_ddl\u001b[49m\u001b[43m(\u001b[49m\u001b[43mddl\u001b[49m\u001b[43m)\u001b[49m\n\u001b[32m   1842\u001b[39m \u001b[38;5;28;01mif\u001b[39;00m plan:\n\u001b[32m   1843\u001b[39m     \u001b[38;5;28;01mfor\u001b[39;00m item \u001b[38;5;129;01min\u001b[39;00m plan._plan:\n",
            "\u001b[36mFile \u001b[39m\u001b[32m~/Documents/WorkSpace/Universidad/Ingenieria de Datos/.venv/lib/python3.13/site-packages/vanna/vannadb/vannadb_vector.py:314\u001b[39m, in \u001b[36mVannaDB_VectorStore.add_ddl\u001b[39m\u001b[34m(self, ddl, **kwargs)\u001b[39m\n\u001b[32m    311\u001b[39m d = \u001b[38;5;28mself\u001b[39m._rpc_call(method=\u001b[33m\"\u001b[39m\u001b[33madd_ddl\u001b[39m\u001b[33m\"\u001b[39m, params=params)\n\u001b[32m    313\u001b[39m \u001b[38;5;28;01mif\u001b[39;00m \u001b[33m\"\u001b[39m\u001b[33mresult\u001b[39m\u001b[33m\"\u001b[39m \u001b[38;5;129;01mnot\u001b[39;00m \u001b[38;5;129;01min\u001b[39;00m d:\n\u001b[32m--> \u001b[39m\u001b[32m314\u001b[39m     \u001b[38;5;28;01mraise\u001b[39;00m \u001b[38;5;167;01mException\u001b[39;00m(\u001b[33m\"\u001b[39m\u001b[33mError adding DDL\u001b[39m\u001b[33m\"\u001b[39m, d)\n\u001b[32m    316\u001b[39m status = StatusWithId(**d[\u001b[33m\"\u001b[39m\u001b[33mresult\u001b[39m\u001b[33m\"\u001b[39m])\n\u001b[32m    318\u001b[39m \u001b[38;5;28;01mreturn\u001b[39;00m status.id\n",
            "\u001b[31mException\u001b[39m: ('Error adding DDL', {'error': {'code': -32600, 'message': 'Invalid Request: No key'}, 'jsonrpc': '2.0'})"
          ]
        }
      ],
      "source": [
        "vn.train(\n",
        "    ddl=\"\"\"\n",
        "CREATE TABLE clientes (\n",
        "    cliente_id    INTEGER PRIMARY KEY,\n",
        "    nombre        TEXT    NOT NULL,\n",
        "    ciudad        TEXT,\n",
        "    edad          INTEGER,\n",
        "    fecha_registro DATE\n",
        ")\n",
        "\"\"\"\n",
        ")"
      ]
    },
    {
      "cell_type": "code",
      "execution_count": 5,
      "metadata": {
        "colab": {
          "base_uri": "https://localhost:8080/",
          "height": 250
        },
        "id": "yhbJX_OdDqJo",
        "outputId": "6bac2446-97c5-4b3b-a6db-8e6c22a9ad67"
      },
      "outputs": [
        {
          "name": "stdout",
          "output_type": "stream",
          "text": [
            "Adding ddl: \n",
            "CREATE TABLE pedidos (\n",
            "    pedido_id      INTEGER PRIMARY KEY,\n",
            "    cliente_id     INTEGER,\n",
            "    producto       TEXT    NOT NULL,\n",
            "    cantidad       INTEGER NOT NULL,\n",
            "    precio_unit    REAL    NOT NULL,\n",
            "    fecha_pedido   DATE    NOT NULL,\n",
            "    estado         TEXT    NOT NULL,\n",
            "    FOREIGN KEY(cliente_id) REFERENCES clientes(cliente_id)\n",
            ")\n",
            "\n"
          ]
        },
        {
          "data": {
            "application/vnd.google.colaboratory.intrinsic+json": {
              "type": "string"
            },
            "text/plain": [
              "'15462843-ddl'"
            ]
          },
          "execution_count": 5,
          "metadata": {},
          "output_type": "execute_result"
        }
      ],
      "source": [
        "vn.train(\n",
        "    ddl=\"\"\"\n",
        "CREATE TABLE pedidos (\n",
        "    pedido_id      INTEGER PRIMARY KEY,\n",
        "    cliente_id     INTEGER,\n",
        "    producto       TEXT    NOT NULL,\n",
        "    cantidad       INTEGER NOT NULL,\n",
        "    precio_unit    REAL    NOT NULL,\n",
        "    fecha_pedido   DATE    NOT NULL,\n",
        "    estado         TEXT    NOT NULL,\n",
        "    FOREIGN KEY(cliente_id) REFERENCES clientes(cliente_id)\n",
        ")\n",
        "\"\"\"\n",
        ")"
      ]
    },
    {
      "cell_type": "code",
      "execution_count": 6,
      "metadata": {
        "colab": {
          "base_uri": "https://localhost:8080/",
          "height": 53
        },
        "id": "UaT0x4koDpON",
        "outputId": "9f922a04-1873-47d6-d595-ef3ab2547942"
      },
      "outputs": [
        {
          "name": "stdout",
          "output_type": "stream",
          "text": [
            "Adding documentation....\n"
          ]
        },
        {
          "data": {
            "application/vnd.google.colaboratory.intrinsic+json": {
              "type": "string"
            },
            "text/plain": [
              "'3436304-doc'"
            ]
          },
          "execution_count": 6,
          "metadata": {},
          "output_type": "execute_result"
        }
      ],
      "source": [
        "vn.train(\n",
        "    documentation=\"El usuario puede usar el nombre de orden en lugar de pedido.\"\n",
        ")"
      ]
    },
    {
      "cell_type": "code",
      "execution_count": 7,
      "metadata": {
        "colab": {
          "base_uri": "https://localhost:8080/",
          "height": 53
        },
        "id": "PkvxxEIJEAS7",
        "outputId": "5a4a2ddf-e57b-45df-bf02-3fe43698f47c"
      },
      "outputs": [
        {
          "name": "stdout",
          "output_type": "stream",
          "text": [
            "Adding documentation....\n"
          ]
        },
        {
          "data": {
            "application/vnd.google.colaboratory.intrinsic+json": {
              "type": "string"
            },
            "text/plain": [
              "'3436305-doc'"
            ]
          },
          "execution_count": 7,
          "metadata": {},
          "output_type": "execute_result"
        }
      ],
      "source": [
        "vn.train(\n",
        "    documentation=\"Los posibles estados de un pedido son: ENVIADO, ENTREGADO, PENDIENTE, CANCELADO.\"\n",
        ")"
      ]
    },
    {
      "cell_type": "code",
      "execution_count": 8,
      "metadata": {
        "colab": {
          "base_uri": "https://localhost:8080/",
          "height": 35
        },
        "id": "4ZMsc95xEjyd",
        "outputId": "ef1ce558-321b-4910-9455-4ba569ae6748"
      },
      "outputs": [
        {
          "data": {
            "application/vnd.google.colaboratory.intrinsic+json": {
              "type": "string"
            },
            "text/plain": [
              "'254ebadffd85e71abcb97cae617348bb-sql'"
            ]
          },
          "execution_count": 8,
          "metadata": {},
          "output_type": "execute_result"
        }
      ],
      "source": [
        "vn.train(\n",
        "    question=\"Cómo se clasifica el nivel de gasto de cada cliente en “ALTO”, “MEDIO” o “BAJO”, según el total que ha gastado?\",\n",
        "    sql=\"\"\"\n",
        "WITH gastos AS (\n",
        "  SELECT cliente_id,\n",
        "         SUM(cantidad * precio_unit) AS monto_total\n",
        "    FROM pedidos\n",
        "   GROUP BY cliente_id\n",
        ")\n",
        "SELECT c.nombre,\n",
        "       g.monto_total,\n",
        "       CASE\n",
        "         WHEN g.monto_total > 1000 THEN 'ALTO'\n",
        "         WHEN g.monto_total BETWEEN 300 AND 1000 THEN 'MEDIO'\n",
        "         ELSE 'BAJO'\n",
        "       END AS categoria\n",
        "  FROM gastos AS g\n",
        "  JOIN clientes AS c ON c.cliente_id = g.cliente_id;\n",
        "\"\"\"\n",
        ")"
      ]
    },
    {
      "cell_type": "markdown",
      "metadata": {
        "id": "CtYS0qZWGBQ4"
      },
      "source": [
        "Para visualizar lo almacenado hasta el momento:"
      ]
    },
    {
      "cell_type": "code",
      "execution_count": 9,
      "metadata": {
        "colab": {
          "base_uri": "https://localhost:8080/",
          "height": 206
        },
        "id": "XTEGI9xoGACk",
        "outputId": "0242724e-ba57-4bcb-ac78-68241c513845"
      },
      "outputs": [
        {
          "data": {
            "application/vnd.google.colaboratory.intrinsic+json": {
              "summary": "{\n  \"name\": \"vn\",\n  \"rows\": 5,\n  \"fields\": [\n    {\n      \"column\": \"id\",\n      \"properties\": {\n        \"dtype\": \"string\",\n        \"num_unique_values\": 5,\n        \"samples\": [\n          \"3436305-doc\",\n          \"15462827-ddl\",\n          \"15462843-ddl\"\n        ],\n        \"semantic_type\": \"\",\n        \"description\": \"\"\n      }\n    },\n    {\n      \"column\": \"training_data_type\",\n      \"properties\": {\n        \"dtype\": \"string\",\n        \"num_unique_values\": 3,\n        \"samples\": [\n          \"sql\",\n          \"documentation\",\n          \"ddl\"\n        ],\n        \"semantic_type\": \"\",\n        \"description\": \"\"\n      }\n    },\n    {\n      \"column\": \"question\",\n      \"properties\": {\n        \"dtype\": \"category\",\n        \"num_unique_values\": 1,\n        \"samples\": [\n          \"C\\u00f3mo se clasifica el nivel de gasto de cada cliente en \\u201cALTO\\u201d, \\u201cMEDIO\\u201d o \\u201cBAJO\\u201d, seg\\u00fan el total que ha gastado?\"\n        ],\n        \"semantic_type\": \"\",\n        \"description\": \"\"\n      }\n    },\n    {\n      \"column\": \"content\",\n      \"properties\": {\n        \"dtype\": \"string\",\n        \"num_unique_values\": 5,\n        \"samples\": [\n          \"Los posibles estados de un pedido son: ENVIADO, ENTREGADO, PENDIENTE, CANCELADO.\"\n        ],\n        \"semantic_type\": \"\",\n        \"description\": \"\"\n      }\n    }\n  ]\n}",
              "type": "dataframe"
            },
            "text/html": [
              "\n",
              "  <div id=\"df-11e3ceb5-fee8-4951-8f71-2ffd1aabac96\" class=\"colab-df-container\">\n",
              "    <div>\n",
              "<style scoped>\n",
              "    .dataframe tbody tr th:only-of-type {\n",
              "        vertical-align: middle;\n",
              "    }\n",
              "\n",
              "    .dataframe tbody tr th {\n",
              "        vertical-align: top;\n",
              "    }\n",
              "\n",
              "    .dataframe thead th {\n",
              "        text-align: right;\n",
              "    }\n",
              "</style>\n",
              "<table border=\"1\" class=\"dataframe\">\n",
              "  <thead>\n",
              "    <tr style=\"text-align: right;\">\n",
              "      <th></th>\n",
              "      <th>id</th>\n",
              "      <th>training_data_type</th>\n",
              "      <th>question</th>\n",
              "      <th>content</th>\n",
              "    </tr>\n",
              "  </thead>\n",
              "  <tbody>\n",
              "    <tr>\n",
              "      <th>0</th>\n",
              "      <td>1220660-sql</td>\n",
              "      <td>sql</td>\n",
              "      <td>Cómo se clasifica el nivel de gasto de cada cl...</td>\n",
              "      <td>\\nWITH gastos AS (\\n  SELECT cliente_id,\\n    ...</td>\n",
              "    </tr>\n",
              "    <tr>\n",
              "      <th>1</th>\n",
              "      <td>3436305-doc</td>\n",
              "      <td>documentation</td>\n",
              "      <td>None</td>\n",
              "      <td>Los posibles estados de un pedido son: ENVIADO...</td>\n",
              "    </tr>\n",
              "    <tr>\n",
              "      <th>2</th>\n",
              "      <td>15462843-ddl</td>\n",
              "      <td>ddl</td>\n",
              "      <td>None</td>\n",
              "      <td>\\nCREATE TABLE pedidos (\\n    pedido_id      I...</td>\n",
              "    </tr>\n",
              "    <tr>\n",
              "      <th>3</th>\n",
              "      <td>3436304-doc</td>\n",
              "      <td>documentation</td>\n",
              "      <td>None</td>\n",
              "      <td>El usuario puede usar el nombre de orden en lu...</td>\n",
              "    </tr>\n",
              "    <tr>\n",
              "      <th>4</th>\n",
              "      <td>15462827-ddl</td>\n",
              "      <td>ddl</td>\n",
              "      <td>None</td>\n",
              "      <td>\\nCREATE TABLE clientes (\\n    cliente_id    I...</td>\n",
              "    </tr>\n",
              "  </tbody>\n",
              "</table>\n",
              "</div>\n",
              "    <div class=\"colab-df-buttons\">\n",
              "\n",
              "  <div class=\"colab-df-container\">\n",
              "    <button class=\"colab-df-convert\" onclick=\"convertToInteractive('df-11e3ceb5-fee8-4951-8f71-2ffd1aabac96')\"\n",
              "            title=\"Convert this dataframe to an interactive table.\"\n",
              "            style=\"display:none;\">\n",
              "\n",
              "  <svg xmlns=\"http://www.w3.org/2000/svg\" height=\"24px\" viewBox=\"0 -960 960 960\">\n",
              "    <path d=\"M120-120v-720h720v720H120Zm60-500h600v-160H180v160Zm220 220h160v-160H400v160Zm0 220h160v-160H400v160ZM180-400h160v-160H180v160Zm440 0h160v-160H620v160ZM180-180h160v-160H180v160Zm440 0h160v-160H620v160Z\"/>\n",
              "  </svg>\n",
              "    </button>\n",
              "\n",
              "  <style>\n",
              "    .colab-df-container {\n",
              "      display:flex;\n",
              "      gap: 12px;\n",
              "    }\n",
              "\n",
              "    .colab-df-convert {\n",
              "      background-color: #E8F0FE;\n",
              "      border: none;\n",
              "      border-radius: 50%;\n",
              "      cursor: pointer;\n",
              "      display: none;\n",
              "      fill: #1967D2;\n",
              "      height: 32px;\n",
              "      padding: 0 0 0 0;\n",
              "      width: 32px;\n",
              "    }\n",
              "\n",
              "    .colab-df-convert:hover {\n",
              "      background-color: #E2EBFA;\n",
              "      box-shadow: 0px 1px 2px rgba(60, 64, 67, 0.3), 0px 1px 3px 1px rgba(60, 64, 67, 0.15);\n",
              "      fill: #174EA6;\n",
              "    }\n",
              "\n",
              "    .colab-df-buttons div {\n",
              "      margin-bottom: 4px;\n",
              "    }\n",
              "\n",
              "    [theme=dark] .colab-df-convert {\n",
              "      background-color: #3B4455;\n",
              "      fill: #D2E3FC;\n",
              "    }\n",
              "\n",
              "    [theme=dark] .colab-df-convert:hover {\n",
              "      background-color: #434B5C;\n",
              "      box-shadow: 0px 1px 3px 1px rgba(0, 0, 0, 0.15);\n",
              "      filter: drop-shadow(0px 1px 2px rgba(0, 0, 0, 0.3));\n",
              "      fill: #FFFFFF;\n",
              "    }\n",
              "  </style>\n",
              "\n",
              "    <script>\n",
              "      const buttonEl =\n",
              "        document.querySelector('#df-11e3ceb5-fee8-4951-8f71-2ffd1aabac96 button.colab-df-convert');\n",
              "      buttonEl.style.display =\n",
              "        google.colab.kernel.accessAllowed ? 'block' : 'none';\n",
              "\n",
              "      async function convertToInteractive(key) {\n",
              "        const element = document.querySelector('#df-11e3ceb5-fee8-4951-8f71-2ffd1aabac96');\n",
              "        const dataTable =\n",
              "          await google.colab.kernel.invokeFunction('convertToInteractive',\n",
              "                                                    [key], {});\n",
              "        if (!dataTable) return;\n",
              "\n",
              "        const docLinkHtml = 'Like what you see? Visit the ' +\n",
              "          '<a target=\"_blank\" href=https://colab.research.google.com/notebooks/data_table.ipynb>data table notebook</a>'\n",
              "          + ' to learn more about interactive tables.';\n",
              "        element.innerHTML = '';\n",
              "        dataTable['output_type'] = 'display_data';\n",
              "        await google.colab.output.renderOutput(dataTable, element);\n",
              "        const docLink = document.createElement('div');\n",
              "        docLink.innerHTML = docLinkHtml;\n",
              "        element.appendChild(docLink);\n",
              "      }\n",
              "    </script>\n",
              "  </div>\n",
              "\n",
              "\n",
              "    <div id=\"df-f0b9ba0f-2ea3-4ae7-b803-c4974dba5cd9\">\n",
              "      <button class=\"colab-df-quickchart\" onclick=\"quickchart('df-f0b9ba0f-2ea3-4ae7-b803-c4974dba5cd9')\"\n",
              "                title=\"Suggest charts\"\n",
              "                style=\"display:none;\">\n",
              "\n",
              "<svg xmlns=\"http://www.w3.org/2000/svg\" height=\"24px\"viewBox=\"0 0 24 24\"\n",
              "     width=\"24px\">\n",
              "    <g>\n",
              "        <path d=\"M19 3H5c-1.1 0-2 .9-2 2v14c0 1.1.9 2 2 2h14c1.1 0 2-.9 2-2V5c0-1.1-.9-2-2-2zM9 17H7v-7h2v7zm4 0h-2V7h2v10zm4 0h-2v-4h2v4z\"/>\n",
              "    </g>\n",
              "</svg>\n",
              "      </button>\n",
              "\n",
              "<style>\n",
              "  .colab-df-quickchart {\n",
              "      --bg-color: #E8F0FE;\n",
              "      --fill-color: #1967D2;\n",
              "      --hover-bg-color: #E2EBFA;\n",
              "      --hover-fill-color: #174EA6;\n",
              "      --disabled-fill-color: #AAA;\n",
              "      --disabled-bg-color: #DDD;\n",
              "  }\n",
              "\n",
              "  [theme=dark] .colab-df-quickchart {\n",
              "      --bg-color: #3B4455;\n",
              "      --fill-color: #D2E3FC;\n",
              "      --hover-bg-color: #434B5C;\n",
              "      --hover-fill-color: #FFFFFF;\n",
              "      --disabled-bg-color: #3B4455;\n",
              "      --disabled-fill-color: #666;\n",
              "  }\n",
              "\n",
              "  .colab-df-quickchart {\n",
              "    background-color: var(--bg-color);\n",
              "    border: none;\n",
              "    border-radius: 50%;\n",
              "    cursor: pointer;\n",
              "    display: none;\n",
              "    fill: var(--fill-color);\n",
              "    height: 32px;\n",
              "    padding: 0;\n",
              "    width: 32px;\n",
              "  }\n",
              "\n",
              "  .colab-df-quickchart:hover {\n",
              "    background-color: var(--hover-bg-color);\n",
              "    box-shadow: 0 1px 2px rgba(60, 64, 67, 0.3), 0 1px 3px 1px rgba(60, 64, 67, 0.15);\n",
              "    fill: var(--button-hover-fill-color);\n",
              "  }\n",
              "\n",
              "  .colab-df-quickchart-complete:disabled,\n",
              "  .colab-df-quickchart-complete:disabled:hover {\n",
              "    background-color: var(--disabled-bg-color);\n",
              "    fill: var(--disabled-fill-color);\n",
              "    box-shadow: none;\n",
              "  }\n",
              "\n",
              "  .colab-df-spinner {\n",
              "    border: 2px solid var(--fill-color);\n",
              "    border-color: transparent;\n",
              "    border-bottom-color: var(--fill-color);\n",
              "    animation:\n",
              "      spin 1s steps(1) infinite;\n",
              "  }\n",
              "\n",
              "  @keyframes spin {\n",
              "    0% {\n",
              "      border-color: transparent;\n",
              "      border-bottom-color: var(--fill-color);\n",
              "      border-left-color: var(--fill-color);\n",
              "    }\n",
              "    20% {\n",
              "      border-color: transparent;\n",
              "      border-left-color: var(--fill-color);\n",
              "      border-top-color: var(--fill-color);\n",
              "    }\n",
              "    30% {\n",
              "      border-color: transparent;\n",
              "      border-left-color: var(--fill-color);\n",
              "      border-top-color: var(--fill-color);\n",
              "      border-right-color: var(--fill-color);\n",
              "    }\n",
              "    40% {\n",
              "      border-color: transparent;\n",
              "      border-right-color: var(--fill-color);\n",
              "      border-top-color: var(--fill-color);\n",
              "    }\n",
              "    60% {\n",
              "      border-color: transparent;\n",
              "      border-right-color: var(--fill-color);\n",
              "    }\n",
              "    80% {\n",
              "      border-color: transparent;\n",
              "      border-right-color: var(--fill-color);\n",
              "      border-bottom-color: var(--fill-color);\n",
              "    }\n",
              "    90% {\n",
              "      border-color: transparent;\n",
              "      border-bottom-color: var(--fill-color);\n",
              "    }\n",
              "  }\n",
              "</style>\n",
              "\n",
              "      <script>\n",
              "        async function quickchart(key) {\n",
              "          const quickchartButtonEl =\n",
              "            document.querySelector('#' + key + ' button');\n",
              "          quickchartButtonEl.disabled = true;  // To prevent multiple clicks.\n",
              "          quickchartButtonEl.classList.add('colab-df-spinner');\n",
              "          try {\n",
              "            const charts = await google.colab.kernel.invokeFunction(\n",
              "                'suggestCharts', [key], {});\n",
              "          } catch (error) {\n",
              "            console.error('Error during call to suggestCharts:', error);\n",
              "          }\n",
              "          quickchartButtonEl.classList.remove('colab-df-spinner');\n",
              "          quickchartButtonEl.classList.add('colab-df-quickchart-complete');\n",
              "        }\n",
              "        (() => {\n",
              "          let quickchartButtonEl =\n",
              "            document.querySelector('#df-f0b9ba0f-2ea3-4ae7-b803-c4974dba5cd9 button');\n",
              "          quickchartButtonEl.style.display =\n",
              "            google.colab.kernel.accessAllowed ? 'block' : 'none';\n",
              "        })();\n",
              "      </script>\n",
              "    </div>\n",
              "\n",
              "    </div>\n",
              "  </div>\n"
            ],
            "text/plain": [
              "             id training_data_type  \\\n",
              "0   1220660-sql                sql   \n",
              "1   3436305-doc      documentation   \n",
              "2  15462843-ddl                ddl   \n",
              "3   3436304-doc      documentation   \n",
              "4  15462827-ddl                ddl   \n",
              "\n",
              "                                            question  \\\n",
              "0  Cómo se clasifica el nivel de gasto de cada cl...   \n",
              "1                                               None   \n",
              "2                                               None   \n",
              "3                                               None   \n",
              "4                                               None   \n",
              "\n",
              "                                             content  \n",
              "0  \\nWITH gastos AS (\\n  SELECT cliente_id,\\n    ...  \n",
              "1  Los posibles estados de un pedido son: ENVIADO...  \n",
              "2  \\nCREATE TABLE pedidos (\\n    pedido_id      I...  \n",
              "3  El usuario puede usar el nombre de orden en lu...  \n",
              "4  \\nCREATE TABLE clientes (\\n    cliente_id    I...  "
            ]
          },
          "execution_count": 9,
          "metadata": {},
          "output_type": "execute_result"
        }
      ],
      "source": [
        "vn.get_training_data()"
      ]
    },
    {
      "cell_type": "markdown",
      "metadata": {
        "id": "wQkMRfkTGIGY"
      },
      "source": [
        "Para eliminar algo de la base de datos:"
      ]
    },
    {
      "cell_type": "code",
      "execution_count": 8,
      "metadata": {
        "colab": {
          "base_uri": "https://localhost:8080/"
        },
        "id": "sQ11wJdQGLWS",
        "outputId": "7a629614-0886-46ec-d81a-caa30b155d1d"
      },
      "outputs": [
        {
          "data": {
            "text/plain": [
              "True"
            ]
          },
          "execution_count": 8,
          "metadata": {},
          "output_type": "execute_result"
        }
      ],
      "source": [
        "vn.remove_training_data('15462827-ddl') # se ingresa el id que se visualiza en la tabla anterior"
      ]
    },
    {
      "cell_type": "markdown",
      "metadata": {
        "id": "j4-iE7sYFEzP"
      },
      "source": [
        "Para generar SQL:"
      ]
    },
    {
      "cell_type": "code",
      "execution_count": 15,
      "metadata": {
        "colab": {
          "base_uri": "https://localhost:8080/"
        },
        "id": "-cpxCgSbFCo1",
        "outputId": "6a1ab956-6437-452b-f2e9-449c2d2f70ba"
      },
      "outputs": [
        {
          "name": "stdout",
          "output_type": "stream",
          "text": [
            "SQL Prompt: [{'role': 'system', 'content': \"You are a SQL expert. Please help to generate a SQL query to answer the question. Your response should ONLY be based on the given context and follow the response guidelines and format instructions. \\n===Tables \\n\\nCREATE TABLE pedidos (\\n    pedido_id      INTEGER PRIMARY KEY,\\n    cliente_id     INTEGER,\\n    producto       TEXT    NOT NULL,\\n    cantidad       INTEGER NOT NULL,\\n    precio_unit    REAL    NOT NULL,\\n    fecha_pedido   DATE    NOT NULL,\\n    estado         TEXT    NOT NULL,\\n    FOREIGN KEY(cliente_id) REFERENCES clientes(cliente_id)\\n)\\n\\n\\n\\nCREATE TABLE clientes (\\n    cliente_id    INTEGER PRIMARY KEY,\\n    nombre        TEXT    NOT NULL,\\n    ciudad        TEXT,\\n    edad          INTEGER,\\n    fecha_registro DATE\\n)\\n\\n\\n\\n===Additional Context \\n\\nEl usuario puede usar el nombre de orden en lugar de pedido.\\n\\nLos posibles estados de un pedido son: ENVIADO, ENTREGADO, PENDIENTE, CANCELADO.\\n\\n===Response Guidelines \\n1. If the provided context is sufficient, please generate a valid SQL query without any explanations for the question. \\n2. If the provided context is almost sufficient but requires knowledge of a specific string in a particular column, please generate an intermediate SQL query to find the distinct strings in that column. Prepend the query with a comment saying intermediate_sql \\n3. If the provided context is insufficient, please explain why it can't be generated. \\n4. Please use the most relevant table(s). \\n5. If the question has been asked and answered before, please repeat the answer exactly as it was given before. \\n6. Ensure that the output SQL is SQL-compliant and executable, and free of syntax errors. \\n\"}, {'role': 'user', 'content': 'Cómo se clasifica el nivel de gasto de cada cliente en “ALTO”, “MEDIO” o “BAJO”, según el total que ha gastado?'}, {'role': 'assistant', 'content': \"\\nWITH gastos AS (\\n  SELECT cliente_id,\\n         SUM(cantidad * precio_unit) AS monto_total\\n    FROM pedidos\\n   GROUP BY cliente_id\\n)\\nSELECT c.nombre,\\n       g.monto_total,\\n       CASE\\n         WHEN g.monto_total > 1000 THEN 'ALTO'\\n         WHEN g.monto_total BETWEEN 300 AND 1000 THEN 'MEDIO'\\n         ELSE 'BAJO'\\n       END AS categoria\\n  FROM gastos AS g\\n  JOIN clientes AS c ON c.cliente_id = g.cliente_id;\\n\"}, {'role': 'user', 'content': 'cual fue la ultima orden pedida?'}]\n",
            "LLM Response: SELECT *\n",
            "FROM pedidos\n",
            "ORDER BY fecha_pedido DESC\n",
            "LIMIT 1;\n",
            "Extracted SQL: SELECT *\n",
            "FROM pedidos\n",
            "ORDER BY fecha_pedido DESC\n",
            "LIMIT 1;\n"
          ]
        }
      ],
      "source": [
        "query = vn.generate_sql(\n",
        "    \"cual fue la ultima orden pedida?\"\n",
        ")"
      ]
    },
    {
      "cell_type": "code",
      "execution_count": 13,
      "metadata": {
        "colab": {
          "base_uri": "https://localhost:8080/"
        },
        "id": "wzDQRnBzFIqw",
        "outputId": "5e46cf75-1b04-4848-a8ce-a82e551afda8"
      },
      "outputs": [
        {
          "name": "stdout",
          "output_type": "stream",
          "text": [
            "SELECT *\n",
            "  FROM pedidos\n",
            " ORDER BY fecha_pedido DESC\n",
            " LIMIT 1;\n"
          ]
        }
      ],
      "source": [
        "print(query)"
      ]
    },
    {
      "cell_type": "code",
      "execution_count": null,
      "metadata": {
        "id": "0hksRPHDFWRc"
      },
      "outputs": [],
      "source": [
        "conn = sqlite3.connect('db_basic_queries.sqlite3')"
      ]
    },
    {
      "cell_type": "code",
      "execution_count": null,
      "metadata": {
        "colab": {
          "base_uri": "https://localhost:8080/",
          "height": 81
        },
        "id": "MN9qqJLpHD1O",
        "outputId": "7289814d-deac-4321-bfad-79f1306fef57"
      },
      "outputs": [
        {
          "data": {
            "application/vnd.google.colaboratory.intrinsic+json": {
              "summary": "{\n  \"name\": \"pd\",\n  \"rows\": 1,\n  \"fields\": [\n    {\n      \"column\": \"pedido_id\",\n      \"properties\": {\n        \"dtype\": \"number\",\n        \"std\": null,\n        \"min\": 105,\n        \"max\": 105,\n        \"num_unique_values\": 1,\n        \"samples\": [\n          105\n        ],\n        \"semantic_type\": \"\",\n        \"description\": \"\"\n      }\n    },\n    {\n      \"column\": \"cliente_id\",\n      \"properties\": {\n        \"dtype\": \"number\",\n        \"std\": null,\n        \"min\": 4,\n        \"max\": 4,\n        \"num_unique_values\": 1,\n        \"samples\": [\n          4\n        ],\n        \"semantic_type\": \"\",\n        \"description\": \"\"\n      }\n    },\n    {\n      \"column\": \"producto\",\n      \"properties\": {\n        \"dtype\": \"string\",\n        \"num_unique_values\": 1,\n        \"samples\": [\n          \"Smartphone\"\n        ],\n        \"semantic_type\": \"\",\n        \"description\": \"\"\n      }\n    },\n    {\n      \"column\": \"cantidad\",\n      \"properties\": {\n        \"dtype\": \"number\",\n        \"std\": null,\n        \"min\": 1,\n        \"max\": 1,\n        \"num_unique_values\": 1,\n        \"samples\": [\n          1\n        ],\n        \"semantic_type\": \"\",\n        \"description\": \"\"\n      }\n    },\n    {\n      \"column\": \"precio_unit\",\n      \"properties\": {\n        \"dtype\": \"number\",\n        \"std\": null,\n        \"min\": 1200.0,\n        \"max\": 1200.0,\n        \"num_unique_values\": 1,\n        \"samples\": [\n          1200.0\n        ],\n        \"semantic_type\": \"\",\n        \"description\": \"\"\n      }\n    },\n    {\n      \"column\": \"fecha_pedido\",\n      \"properties\": {\n        \"dtype\": \"object\",\n        \"num_unique_values\": 1,\n        \"samples\": [\n          \"2025-07-02\"\n        ],\n        \"semantic_type\": \"\",\n        \"description\": \"\"\n      }\n    },\n    {\n      \"column\": \"estado\",\n      \"properties\": {\n        \"dtype\": \"string\",\n        \"num_unique_values\": 1,\n        \"samples\": [\n          \"ENVIADO\"\n        ],\n        \"semantic_type\": \"\",\n        \"description\": \"\"\n      }\n    }\n  ]\n}",
              "type": "dataframe"
            },
            "text/html": [
              "\n",
              "  <div id=\"df-52249643-4d6b-45ff-bfdf-e3e7099a81e6\" class=\"colab-df-container\">\n",
              "    <div>\n",
              "<style scoped>\n",
              "    .dataframe tbody tr th:only-of-type {\n",
              "        vertical-align: middle;\n",
              "    }\n",
              "\n",
              "    .dataframe tbody tr th {\n",
              "        vertical-align: top;\n",
              "    }\n",
              "\n",
              "    .dataframe thead th {\n",
              "        text-align: right;\n",
              "    }\n",
              "</style>\n",
              "<table border=\"1\" class=\"dataframe\">\n",
              "  <thead>\n",
              "    <tr style=\"text-align: right;\">\n",
              "      <th></th>\n",
              "      <th>pedido_id</th>\n",
              "      <th>cliente_id</th>\n",
              "      <th>producto</th>\n",
              "      <th>cantidad</th>\n",
              "      <th>precio_unit</th>\n",
              "      <th>fecha_pedido</th>\n",
              "      <th>estado</th>\n",
              "    </tr>\n",
              "  </thead>\n",
              "  <tbody>\n",
              "    <tr>\n",
              "      <th>0</th>\n",
              "      <td>105</td>\n",
              "      <td>4</td>\n",
              "      <td>Smartphone</td>\n",
              "      <td>1</td>\n",
              "      <td>1200.0</td>\n",
              "      <td>2025-07-02</td>\n",
              "      <td>ENVIADO</td>\n",
              "    </tr>\n",
              "  </tbody>\n",
              "</table>\n",
              "</div>\n",
              "    <div class=\"colab-df-buttons\">\n",
              "\n",
              "  <div class=\"colab-df-container\">\n",
              "    <button class=\"colab-df-convert\" onclick=\"convertToInteractive('df-52249643-4d6b-45ff-bfdf-e3e7099a81e6')\"\n",
              "            title=\"Convert this dataframe to an interactive table.\"\n",
              "            style=\"display:none;\">\n",
              "\n",
              "  <svg xmlns=\"http://www.w3.org/2000/svg\" height=\"24px\" viewBox=\"0 -960 960 960\">\n",
              "    <path d=\"M120-120v-720h720v720H120Zm60-500h600v-160H180v160Zm220 220h160v-160H400v160Zm0 220h160v-160H400v160ZM180-400h160v-160H180v160Zm440 0h160v-160H620v160ZM180-180h160v-160H180v160Zm440 0h160v-160H620v160Z\"/>\n",
              "  </svg>\n",
              "    </button>\n",
              "\n",
              "  <style>\n",
              "    .colab-df-container {\n",
              "      display:flex;\n",
              "      gap: 12px;\n",
              "    }\n",
              "\n",
              "    .colab-df-convert {\n",
              "      background-color: #E8F0FE;\n",
              "      border: none;\n",
              "      border-radius: 50%;\n",
              "      cursor: pointer;\n",
              "      display: none;\n",
              "      fill: #1967D2;\n",
              "      height: 32px;\n",
              "      padding: 0 0 0 0;\n",
              "      width: 32px;\n",
              "    }\n",
              "\n",
              "    .colab-df-convert:hover {\n",
              "      background-color: #E2EBFA;\n",
              "      box-shadow: 0px 1px 2px rgba(60, 64, 67, 0.3), 0px 1px 3px 1px rgba(60, 64, 67, 0.15);\n",
              "      fill: #174EA6;\n",
              "    }\n",
              "\n",
              "    .colab-df-buttons div {\n",
              "      margin-bottom: 4px;\n",
              "    }\n",
              "\n",
              "    [theme=dark] .colab-df-convert {\n",
              "      background-color: #3B4455;\n",
              "      fill: #D2E3FC;\n",
              "    }\n",
              "\n",
              "    [theme=dark] .colab-df-convert:hover {\n",
              "      background-color: #434B5C;\n",
              "      box-shadow: 0px 1px 3px 1px rgba(0, 0, 0, 0.15);\n",
              "      filter: drop-shadow(0px 1px 2px rgba(0, 0, 0, 0.3));\n",
              "      fill: #FFFFFF;\n",
              "    }\n",
              "  </style>\n",
              "\n",
              "    <script>\n",
              "      const buttonEl =\n",
              "        document.querySelector('#df-52249643-4d6b-45ff-bfdf-e3e7099a81e6 button.colab-df-convert');\n",
              "      buttonEl.style.display =\n",
              "        google.colab.kernel.accessAllowed ? 'block' : 'none';\n",
              "\n",
              "      async function convertToInteractive(key) {\n",
              "        const element = document.querySelector('#df-52249643-4d6b-45ff-bfdf-e3e7099a81e6');\n",
              "        const dataTable =\n",
              "          await google.colab.kernel.invokeFunction('convertToInteractive',\n",
              "                                                    [key], {});\n",
              "        if (!dataTable) return;\n",
              "\n",
              "        const docLinkHtml = 'Like what you see? Visit the ' +\n",
              "          '<a target=\"_blank\" href=https://colab.research.google.com/notebooks/data_table.ipynb>data table notebook</a>'\n",
              "          + ' to learn more about interactive tables.';\n",
              "        element.innerHTML = '';\n",
              "        dataTable['output_type'] = 'display_data';\n",
              "        await google.colab.output.renderOutput(dataTable, element);\n",
              "        const docLink = document.createElement('div');\n",
              "        docLink.innerHTML = docLinkHtml;\n",
              "        element.appendChild(docLink);\n",
              "      }\n",
              "    </script>\n",
              "  </div>\n",
              "\n",
              "\n",
              "    </div>\n",
              "  </div>\n"
            ],
            "text/plain": [
              "   pedido_id  cliente_id    producto  cantidad  precio_unit fecha_pedido  \\\n",
              "0        105           4  Smartphone         1       1200.0   2025-07-02   \n",
              "\n",
              "    estado  \n",
              "0  ENVIADO  "
            ]
          },
          "execution_count": 29,
          "metadata": {},
          "output_type": "execute_result"
        }
      ],
      "source": [
        "pd.read_sql_query(query, conn)"
      ]
    }
  ],
  "metadata": {
    "colab": {
      "provenance": []
    },
    "kernelspec": {
      "display_name": "ingenieria-de-datos (3.13.5)",
      "language": "python",
      "name": "python3"
    },
    "language_info": {
      "codemirror_mode": {
        "name": "ipython",
        "version": 3
      },
      "file_extension": ".py",
      "mimetype": "text/x-python",
      "name": "python",
      "nbconvert_exporter": "python",
      "pygments_lexer": "ipython3",
      "version": "3.13.5"
    }
  },
  "nbformat": 4,
  "nbformat_minor": 0
}
