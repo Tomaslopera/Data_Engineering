{
 "cells": [
  {
   "cell_type": "code",
   "execution_count": 1,
   "id": "caa6ee8c",
   "metadata": {},
   "outputs": [],
   "source": [
    "import pandas as pd\n",
    "import numpy as np"
   ]
  },
  {
   "cell_type": "code",
   "execution_count": 8,
   "id": "1e0c03ee",
   "metadata": {},
   "outputs": [],
   "source": [
    "wide = pd.read_csv(\"../Transformación de Datos/Datasets/wide_sales.csv\")"
   ]
  },
  {
   "cell_type": "code",
   "execution_count": 11,
   "id": "b048b352",
   "metadata": {},
   "outputs": [],
   "source": [
    "customers = pd.read_csv(\"../Transformación de Datos/Datasets/customers.csv\")"
   ]
  },
  {
   "cell_type": "code",
   "execution_count": 2,
   "id": "79b875f8",
   "metadata": {},
   "outputs": [
    {
     "data": {
      "application/vnd.microsoft.datawrangler.viewer.v0+json": {
       "columns": [
        {
         "name": "index",
         "rawType": "int64",
         "type": "integer"
        },
        {
         "name": "transaction_id",
         "rawType": "int64",
         "type": "integer"
        },
        {
         "name": "customer_id",
         "rawType": "int64",
         "type": "integer"
        },
        {
         "name": "product_id",
         "rawType": "int64",
         "type": "integer"
        },
        {
         "name": "store_id",
         "rawType": "int64",
         "type": "integer"
        },
        {
         "name": "timestamp",
         "rawType": "object",
         "type": "string"
        },
        {
         "name": "ts_str",
         "rawType": "object",
         "type": "string"
        },
        {
         "name": "ts_tz",
         "rawType": "object",
         "type": "string"
        },
        {
         "name": "quantity",
         "rawType": "int64",
         "type": "integer"
        },
        {
         "name": "amount",
         "rawType": "float64",
         "type": "float"
        },
        {
         "name": "amount_str",
         "rawType": "object",
         "type": "string"
        },
        {
         "name": "discount_pct",
         "rawType": "int64",
         "type": "integer"
        },
        {
         "name": "discount_str",
         "rawType": "object",
         "type": "string"
        },
        {
         "name": "payment_method",
         "rawType": "object",
         "type": "string"
        },
        {
         "name": "status",
         "rawType": "object",
         "type": "string"
        },
        {
         "name": "device",
         "rawType": "object",
         "type": "string"
        },
        {
         "name": "channel",
         "rawType": "object",
         "type": "string"
        },
        {
         "name": "hi_value_flag",
         "rawType": "int64",
         "type": "integer"
        }
       ],
       "ref": "c93fdaeb-0fd1-4129-bf6f-f4a55f4e377b",
       "rows": [
        [
         "0",
         "1",
         "258",
         "35",
         "2",
         "2025-05-11 15:46:46",
         "2025-05-11 15:46:46",
         "2025-05-11T15:46:46-05:00",
         "4",
         "770.88",
         "$770.88",
         "5",
         "5%",
         "wallet",
         "completed",
         "ios",
         "mobile",
         "1"
        ],
        [
         "1",
         "2",
         "208",
         "62",
         "16",
         "2024-01-20 10:14:03",
         "2024/01/20 10:14",
         "2024-01-20T10:14:03-05:00",
         "4",
         "954.78",
         "$954.78",
         "10",
         "10%",
         "transfer",
         "pending",
         "web",
         "desktop",
         "1"
        ],
        [
         "2",
         "3",
         "115",
         "5",
         "20",
         "2024-07-09 05:06:54",
         "09/07/2024 05:06",
         "2024-07-09T05:06:54-05:00",
         "4",
         "711.32",
         "$711.32",
         "10",
         "10%",
         "card",
         "completed",
         "android",
         "mobile",
         "1"
        ],
        [
         "3",
         "4",
         "288",
         "33",
         "16",
         "2024-04-18 09:10:31",
         "2024-04-18 09:10:31",
         "2024-04-18T09:10:31-05:00",
         "4",
         "2887.96",
         "$2,887.96",
         "10",
         "10%",
         "card",
         "completed",
         "web",
         "desktop",
         "1"
        ],
        [
         "4",
         "5",
         "66",
         "2",
         "9",
         "2025-06-09 14:35:33",
         "2025-06-09T14:35:33",
         "2025-06-09T14:35:33-05:00",
         "1",
         "2.82",
         "$2.82",
         "0",
         "0%",
         "card",
         "completed",
         "ios",
         "mobile",
         "0"
        ],
        [
         "5",
         "6",
         "143",
         "60",
         "5",
         "2024-03-08 12:39:26",
         "2024-03-08T12:39:26",
         "2024-03-08T12:39:26-05:00",
         "4",
         "271.74",
         "$271.74",
         "20",
         "20%",
         "card",
         "pending",
         "web",
         "desktop",
         "0"
        ],
        [
         "6",
         "7",
         "216",
         "30",
         "14",
         "2024-11-23 17:11:34",
         "2024-11-23 17:11:34",
         "2024-11-23T17:11:34-05:00",
         "3",
         "695.14",
         "$695.14",
         "0",
         "0%",
         "card",
         "completed",
         "web",
         "desktop",
         "1"
        ],
        [
         "7",
         "8",
         "130",
         "35",
         "18",
         "2024-01-24 03:27:37",
         "2024-01-24 03:27:37",
         "2024-01-24T03:27:37-05:00",
         "4",
         "857.59",
         "$857.59",
         "20",
         "20%",
         "cash",
         "completed",
         "web",
         "desktop",
         "1"
        ],
        [
         "8",
         "9",
         "95",
         "14",
         "1",
         "2024-06-18 19:42:26",
         "18/06/2024 19:42",
         "2024-06-18T19:42:26-05:00",
         "5",
         "795.81",
         "$795.81",
         "25",
         "25%",
         "transfer",
         "completed",
         "web",
         "desktop",
         "1"
        ],
        [
         "9",
         "10",
         "25",
         "68",
         "13",
         "2025-01-27 12:30:19",
         "2025-01-27T12:30:19",
         "2025-01-27T12:30:19-05:00",
         "4",
         "478.92",
         "$478.92",
         "0",
         "0%",
         "cash",
         "pending",
         "android",
         "mobile",
         "0"
        ],
        [
         "10",
         "11",
         "160",
         "43",
         "2",
         "2024-01-21 14:39:58",
         "2024-01-21T14:39:58",
         "2024-01-21T14:39:58-05:00",
         "4",
         "132.91",
         "$132.91",
         "0",
         "0%",
         "cash",
         "completed",
         "web",
         "desktop",
         "0"
        ],
        [
         "11",
         "12",
         "267",
         "50",
         "15",
         "2024-06-03 10:36:08",
         "2024-06-03T10:36:08",
         "2024-06-03T10:36:08-05:00",
         "1",
         "197.11",
         "$197.11",
         "0",
         "0%",
         "card",
         "completed",
         "web",
         "desktop",
         "0"
        ],
        [
         "12",
         "13",
         "263",
         "16",
         "1",
         "2024-11-21 20:24:58",
         "21/11/2024 20:24",
         "2024-11-21T20:24:58-05:00",
         "4",
         "395.87",
         "$395.87",
         "0",
         "0%",
         "card",
         "completed",
         "web",
         "desktop",
         "0"
        ],
        [
         "13",
         "14",
         "124",
         "38",
         "7",
         "2024-12-14 21:51:48",
         "2024-12-14T21:51:48",
         "2024-12-14T21:51:48-05:00",
         "2",
         "1306.99",
         "$1,306.99",
         "20",
         "20%",
         "card",
         "completed",
         "web",
         "desktop",
         "1"
        ],
        [
         "14",
         "15",
         "92",
         "14",
         "7",
         "2024-08-04 01:51:02",
         "2024-08-04 01:51:02",
         "2024-08-04T01:51:02-05:00",
         "5",
         "807.3",
         "$807.30",
         "25",
         "25%",
         "card",
         "completed",
         "web",
         "desktop",
         "1"
        ],
        [
         "15",
         "16",
         "230",
         "21",
         "10",
         "2024-05-04 00:15:55",
         "04-May-2024 00:15:55",
         "2024-05-04T00:15:55-05:00",
         "2",
         "29.43",
         "$29.43",
         "10",
         "10%",
         "card",
         "pending",
         "ios",
         "mobile",
         "0"
        ],
        [
         "16",
         "17",
         "181",
         "45",
         "4",
         "2024-09-21 06:43:45",
         "2024/09/21 06:43",
         "2024-09-21T06:43:45-05:00",
         "1",
         "30.69",
         "$30.69",
         "5",
         "5%",
         "card",
         "pending",
         "web",
         "desktop",
         "0"
        ],
        [
         "17",
         "18",
         "282",
         "68",
         "2",
         "2024-04-30 18:20:52",
         "30/04/2024 18:20",
         "2024-04-30T18:20:52-05:00",
         "4",
         "430.52",
         "$430.52",
         "10",
         "10%",
         "transfer",
         "completed",
         "android",
         "mobile",
         "0"
        ],
        [
         "18",
         "19",
         "42",
         "21",
         "10",
         "2024-09-18 10:34:37",
         "2024-09-18 10:34:37",
         "2024-09-18T10:34:37-05:00",
         "5",
         "72.69",
         "$72.69",
         "0",
         "0%",
         "cash",
         "pending",
         "android",
         "mobile",
         "0"
        ],
        [
         "19",
         "20",
         "48",
         "29",
         "1",
         "2024-03-13 00:54:28",
         "13-Mar-2024 00:54:28",
         "2024-03-13T00:54:28-05:00",
         "2",
         "49.39",
         "$49.39",
         "0",
         "0%",
         "transfer",
         "pending",
         "web",
         "desktop",
         "0"
        ],
        [
         "20",
         "21",
         "264",
         "59",
         "8",
         "2024-03-16 02:55:26",
         "2024/03/16 02:55",
         "2024-03-16T02:55:26-05:00",
         "1",
         "88.77",
         "$88.77",
         "0",
         "0%",
         "card",
         "completed",
         "ios",
         "mobile",
         "0"
        ],
        [
         "21",
         "22",
         "87",
         "8",
         "13",
         "2024-09-24 03:47:57",
         "2024-09-24T03:47:57",
         "2024-09-24T03:47:57-05:00",
         "1",
         "3.19",
         "$3.19",
         "10",
         "10%",
         "transfer",
         "completed",
         "web",
         "desktop",
         "0"
        ],
        [
         "22",
         "23",
         "148",
         "21",
         "8",
         "2024-07-24 11:01:34",
         "2024-07-24 11:01:34",
         "2024-07-24T11:01:34-05:00",
         "2",
         "31.14",
         "$31.14",
         "25",
         "25%",
         "wallet",
         "pending",
         "android",
         "mobile",
         "0"
        ],
        [
         "23",
         "24",
         "51",
         "58",
         "5",
         "2025-07-20 19:11:11",
         "20-Jul-2025 19:11:11",
         "2025-07-20T19:11:11-05:00",
         "5",
         "1142.75",
         "$1,142.75",
         "15",
         "15%",
         "card",
         "completed",
         "web",
         "desktop",
         "1"
        ],
        [
         "24",
         "25",
         "220",
         "8",
         "8",
         "2025-02-20 12:00:58",
         "2025-02-20 12:00:58",
         "2025-02-20T12:00:58-05:00",
         "1",
         "3.33",
         "$3.33",
         "10",
         "10%",
         "card",
         "completed",
         "web",
         "desktop",
         "0"
        ],
        [
         "25",
         "26",
         "105",
         "41",
         "18",
         "2024-10-21 00:23:32",
         "2024-10-21 00:23:32",
         "2024-10-21T00:23:32-05:00",
         "2",
         "495.47",
         "$495.47",
         "0",
         "0%",
         "wallet",
         "completed",
         "ios",
         "mobile",
         "0"
        ],
        [
         "26",
         "27",
         "288",
         "32",
         "2",
         "2025-03-04 18:46:59",
         "2025/03/04 18:46",
         "2025-03-04T18:46:59-05:00",
         "3",
         "1577.65",
         "$1,577.65",
         "0",
         "0%",
         "cash",
         "completed",
         "web",
         "desktop",
         "1"
        ],
        [
         "27",
         "28",
         "124",
         "22",
         "20",
         "2025-05-03 06:41:42",
         "2025-05-03T06:41:42",
         "2025-05-03T06:41:42-05:00",
         "4",
         "322.99",
         "$322.99",
         "0",
         "0%",
         "transfer",
         "completed",
         "web",
         "desktop",
         "0"
        ],
        [
         "28",
         "29",
         "32",
         "39",
         "17",
         "2024-10-07 21:21:55",
         "2024-10-07T21:21:55",
         "2024-10-07T21:21:55-05:00",
         "4",
         "646.33",
         "$646.33",
         "0",
         "0%",
         "transfer",
         "completed",
         "android",
         "mobile",
         "0"
        ],
        [
         "29",
         "30",
         "238",
         "7",
         "12",
         "2024-05-29 08:31:08",
         "2024-05-29 08:31:08",
         "2024-05-29T08:31:08-05:00",
         "3",
         "74.76",
         "$74.76",
         "15",
         "15%",
         "card",
         "completed",
         "ios",
         "mobile",
         "0"
        ],
        [
         "30",
         "31",
         "258",
         "29",
         "15",
         "2024-02-05 14:13:42",
         "05/02/2024 14:13",
         "2024-02-05T14:13:42-05:00",
         "4",
         "96.74",
         "$96.74",
         "0",
         "0%",
         "card",
         "pending",
         "ios",
         "mobile",
         "0"
        ],
        [
         "31",
         "32",
         "171",
         "37",
         "1",
         "2024-08-12 18:34:57",
         "2024-08-12 18:34:57",
         "2024-08-12T18:34:57-05:00",
         "3",
         "461.11",
         "$461.11",
         "5",
         "5%",
         "cash",
         "pending",
         "ios",
         "mobile",
         "0"
        ],
        [
         "32",
         "33",
         "128",
         "8",
         "10",
         "2024-06-29 19:32:11",
         "2024-06-29 19:32:11",
         "2024-06-29T19:32:11-05:00",
         "2",
         "5.48",
         "$5.48",
         "0",
         "0%",
         "cash",
         "refunded",
         "web",
         "desktop",
         "0"
        ],
        [
         "33",
         "34",
         "224",
         "64",
         "10",
         "2024-10-22 06:03:59",
         "2024/10/22 06:03",
         "2024-10-22T06:03:59-05:00",
         "2",
         "457.97",
         "$457.97",
         "5",
         "5%",
         "cash",
         "completed",
         "web",
         "desktop",
         "0"
        ],
        [
         "34",
         "35",
         "112",
         "13",
         "9",
         "2024-12-18 04:10:50",
         "2024/12/18 04:10",
         "2024-12-18T04:10:50-05:00",
         "4",
         "767.05",
         "$767.05",
         "15",
         "15%",
         "transfer",
         "pending",
         "web",
         "desktop",
         "1"
        ],
        [
         "35",
         "36",
         "121",
         "34",
         "20",
         "2024-05-06 08:05:31",
         "2024/05/06 08:05",
         "2024-05-06T08:05:31-05:00",
         "3",
         "597.57",
         "$597.57",
         "15",
         "15%",
         "card",
         "completed",
         "web",
         "desktop",
         "0"
        ],
        [
         "36",
         "37",
         "111",
         "4",
         "20",
         "2024-10-02 22:43:33",
         "02/10/2024 22:43",
         "2024-10-02T22:43:33-05:00",
         "2",
         "206.66",
         "$206.66",
         "5",
         "5%",
         "card",
         "completed",
         "ios",
         "mobile",
         "0"
        ],
        [
         "37",
         "38",
         "202",
         "38",
         "14",
         "2025-06-04 12:58:14",
         "2025/06/04 12:58",
         "2025-06-04T12:58:14-05:00",
         "4",
         "2642.55",
         "$2,642.55",
         "0",
         "0%",
         "card",
         "pending",
         "ios",
         "mobile",
         "1"
        ],
        [
         "38",
         "39",
         "3",
         "58",
         "20",
         "2025-06-29 02:52:43",
         "2025-06-29 02:52:43",
         "2025-06-29T02:52:43-05:00",
         "4",
         "806.57",
         "$806.57",
         "5",
         "5%",
         "cash",
         "completed",
         "web",
         "desktop",
         "1"
        ],
        [
         "39",
         "40",
         "211",
         "22",
         "13",
         "2025-04-18 03:01:29",
         "18/04/2025 03:01",
         "2025-04-18T03:01:29-05:00",
         "4",
         "369.35",
         "$369.35",
         "10",
         "10%",
         "transfer",
         "completed",
         "web",
         "desktop",
         "0"
        ],
        [
         "40",
         "41",
         "228",
         "55",
         "17",
         "2025-02-18 21:05:20",
         "18/02/2025 21:05",
         "2025-02-18T21:05:20-05:00",
         "1",
         "590.39",
         "$590.39",
         "0",
         "0%",
         "cash",
         "completed",
         "android",
         "mobile",
         "0"
        ],
        [
         "41",
         "42",
         "118",
         "45",
         "1",
         "2024-05-06 22:02:35",
         "06-May-2024 22:02:35",
         "2024-05-06T22:02:35-05:00",
         "1",
         "34.21",
         "$34.21",
         "5",
         "5%",
         "card",
         "completed",
         "android",
         "mobile",
         "0"
        ],
        [
         "42",
         "43",
         "124",
         "75",
         "7",
         "2024-10-21 17:33:43",
         "2024/10/21 17:33",
         "2024-10-21T17:33:43-05:00",
         "1",
         "439.36",
         "$439.36",
         "0",
         "0%",
         "cash",
         "refunded",
         "web",
         "desktop",
         "0"
        ],
        [
         "43",
         "44",
         "107",
         "70",
         "17",
         "2025-05-12 02:27:36",
         "2025-05-12T02:27:36",
         "2025-05-12T02:27:36-05:00",
         "3",
         "206.35",
         "$206.35",
         "20",
         "20%",
         "card",
         "completed",
         "android",
         "mobile",
         "0"
        ],
        [
         "44",
         "45",
         "49",
         "21",
         "10",
         "2024-06-19 13:55:24",
         "2024/06/19 13:55",
         "2024-06-19T13:55:24-05:00",
         "5",
         "81.68",
         "$81.68",
         "10",
         "10%",
         "card",
         "pending",
         "android",
         "mobile",
         "0"
        ],
        [
         "45",
         "46",
         "280",
         "57",
         "4",
         "2024-02-13 10:45:32",
         "13/02/2024 10:45",
         "2024-02-13T10:45:32-05:00",
         "1",
         "140.06",
         "$140.06",
         "10",
         "10%",
         "card",
         "completed",
         "ios",
         "mobile",
         "0"
        ],
        [
         "46",
         "47",
         "36",
         "30",
         "12",
         "2024-01-25 22:23:30",
         "2024/01/25 22:23",
         "2024-01-25T22:23:30-05:00",
         "2",
         "418.94",
         "$418.94",
         "0",
         "0%",
         "card",
         "pending",
         "web",
         "desktop",
         "0"
        ],
        [
         "47",
         "48",
         "182",
         "70",
         "12",
         "2024-11-07 14:15:13",
         "2024/11/07 14:15",
         "2024-11-07T14:15:13-05:00",
         "1",
         "71.49",
         "$71.49",
         "0",
         "0%",
         "card",
         "pending",
         "web",
         "desktop",
         "0"
        ],
        [
         "48",
         "49",
         "196",
         "50",
         "1",
         "2024-02-21 09:50:42",
         "21/02/2024 09:50",
         "2024-02-21T09:50:42-05:00",
         "3",
         "581.36",
         "$581.36",
         "20",
         "20%",
         "card",
         "completed",
         "android",
         "mobile",
         "0"
        ],
        [
         "49",
         "50",
         "143",
         "48",
         "7",
         "2025-03-16 13:00:08",
         "2025/03/16 13:00",
         "2025-03-16T13:00:08-05:00",
         "5",
         "137.71",
         "$137.71",
         "5",
         "5%",
         "card",
         "completed",
         "android",
         "mobile",
         "0"
        ]
       ],
       "shape": {
        "columns": 17,
        "rows": 1500
       }
      },
      "text/html": [
       "<div>\n",
       "<style scoped>\n",
       "    .dataframe tbody tr th:only-of-type {\n",
       "        vertical-align: middle;\n",
       "    }\n",
       "\n",
       "    .dataframe tbody tr th {\n",
       "        vertical-align: top;\n",
       "    }\n",
       "\n",
       "    .dataframe thead th {\n",
       "        text-align: right;\n",
       "    }\n",
       "</style>\n",
       "<table border=\"1\" class=\"dataframe\">\n",
       "  <thead>\n",
       "    <tr style=\"text-align: right;\">\n",
       "      <th></th>\n",
       "      <th>transaction_id</th>\n",
       "      <th>customer_id</th>\n",
       "      <th>product_id</th>\n",
       "      <th>store_id</th>\n",
       "      <th>timestamp</th>\n",
       "      <th>ts_str</th>\n",
       "      <th>ts_tz</th>\n",
       "      <th>quantity</th>\n",
       "      <th>amount</th>\n",
       "      <th>amount_str</th>\n",
       "      <th>discount_pct</th>\n",
       "      <th>discount_str</th>\n",
       "      <th>payment_method</th>\n",
       "      <th>status</th>\n",
       "      <th>device</th>\n",
       "      <th>channel</th>\n",
       "      <th>hi_value_flag</th>\n",
       "    </tr>\n",
       "  </thead>\n",
       "  <tbody>\n",
       "    <tr>\n",
       "      <th>0</th>\n",
       "      <td>1</td>\n",
       "      <td>258</td>\n",
       "      <td>35</td>\n",
       "      <td>2</td>\n",
       "      <td>2025-05-11 15:46:46</td>\n",
       "      <td>2025-05-11 15:46:46</td>\n",
       "      <td>2025-05-11T15:46:46-05:00</td>\n",
       "      <td>4</td>\n",
       "      <td>770.88</td>\n",
       "      <td>$770.88</td>\n",
       "      <td>5</td>\n",
       "      <td>5%</td>\n",
       "      <td>wallet</td>\n",
       "      <td>completed</td>\n",
       "      <td>ios</td>\n",
       "      <td>mobile</td>\n",
       "      <td>1</td>\n",
       "    </tr>\n",
       "    <tr>\n",
       "      <th>1</th>\n",
       "      <td>2</td>\n",
       "      <td>208</td>\n",
       "      <td>62</td>\n",
       "      <td>16</td>\n",
       "      <td>2024-01-20 10:14:03</td>\n",
       "      <td>2024/01/20 10:14</td>\n",
       "      <td>2024-01-20T10:14:03-05:00</td>\n",
       "      <td>4</td>\n",
       "      <td>954.78</td>\n",
       "      <td>$954.78</td>\n",
       "      <td>10</td>\n",
       "      <td>10%</td>\n",
       "      <td>transfer</td>\n",
       "      <td>pending</td>\n",
       "      <td>web</td>\n",
       "      <td>desktop</td>\n",
       "      <td>1</td>\n",
       "    </tr>\n",
       "    <tr>\n",
       "      <th>2</th>\n",
       "      <td>3</td>\n",
       "      <td>115</td>\n",
       "      <td>5</td>\n",
       "      <td>20</td>\n",
       "      <td>2024-07-09 05:06:54</td>\n",
       "      <td>09/07/2024 05:06</td>\n",
       "      <td>2024-07-09T05:06:54-05:00</td>\n",
       "      <td>4</td>\n",
       "      <td>711.32</td>\n",
       "      <td>$711.32</td>\n",
       "      <td>10</td>\n",
       "      <td>10%</td>\n",
       "      <td>card</td>\n",
       "      <td>completed</td>\n",
       "      <td>android</td>\n",
       "      <td>mobile</td>\n",
       "      <td>1</td>\n",
       "    </tr>\n",
       "    <tr>\n",
       "      <th>3</th>\n",
       "      <td>4</td>\n",
       "      <td>288</td>\n",
       "      <td>33</td>\n",
       "      <td>16</td>\n",
       "      <td>2024-04-18 09:10:31</td>\n",
       "      <td>2024-04-18 09:10:31</td>\n",
       "      <td>2024-04-18T09:10:31-05:00</td>\n",
       "      <td>4</td>\n",
       "      <td>2887.96</td>\n",
       "      <td>$2,887.96</td>\n",
       "      <td>10</td>\n",
       "      <td>10%</td>\n",
       "      <td>card</td>\n",
       "      <td>completed</td>\n",
       "      <td>web</td>\n",
       "      <td>desktop</td>\n",
       "      <td>1</td>\n",
       "    </tr>\n",
       "    <tr>\n",
       "      <th>4</th>\n",
       "      <td>5</td>\n",
       "      <td>66</td>\n",
       "      <td>2</td>\n",
       "      <td>9</td>\n",
       "      <td>2025-06-09 14:35:33</td>\n",
       "      <td>2025-06-09T14:35:33</td>\n",
       "      <td>2025-06-09T14:35:33-05:00</td>\n",
       "      <td>1</td>\n",
       "      <td>2.82</td>\n",
       "      <td>$2.82</td>\n",
       "      <td>0</td>\n",
       "      <td>0%</td>\n",
       "      <td>card</td>\n",
       "      <td>completed</td>\n",
       "      <td>ios</td>\n",
       "      <td>mobile</td>\n",
       "      <td>0</td>\n",
       "    </tr>\n",
       "    <tr>\n",
       "      <th>...</th>\n",
       "      <td>...</td>\n",
       "      <td>...</td>\n",
       "      <td>...</td>\n",
       "      <td>...</td>\n",
       "      <td>...</td>\n",
       "      <td>...</td>\n",
       "      <td>...</td>\n",
       "      <td>...</td>\n",
       "      <td>...</td>\n",
       "      <td>...</td>\n",
       "      <td>...</td>\n",
       "      <td>...</td>\n",
       "      <td>...</td>\n",
       "      <td>...</td>\n",
       "      <td>...</td>\n",
       "      <td>...</td>\n",
       "      <td>...</td>\n",
       "    </tr>\n",
       "    <tr>\n",
       "      <th>1495</th>\n",
       "      <td>1496</td>\n",
       "      <td>136</td>\n",
       "      <td>37</td>\n",
       "      <td>13</td>\n",
       "      <td>2025-03-05 13:22:13</td>\n",
       "      <td>05-Mar-2025 13:22:13</td>\n",
       "      <td>2025-03-05T13:22:13-05:00</td>\n",
       "      <td>1</td>\n",
       "      <td>163.03</td>\n",
       "      <td>$163.03</td>\n",
       "      <td>0</td>\n",
       "      <td>0%</td>\n",
       "      <td>transfer</td>\n",
       "      <td>completed</td>\n",
       "      <td>android</td>\n",
       "      <td>mobile</td>\n",
       "      <td>0</td>\n",
       "    </tr>\n",
       "    <tr>\n",
       "      <th>1496</th>\n",
       "      <td>1497</td>\n",
       "      <td>17</td>\n",
       "      <td>56</td>\n",
       "      <td>18</td>\n",
       "      <td>2024-12-01 10:13:45</td>\n",
       "      <td>01/12/2024 10:13</td>\n",
       "      <td>2024-12-01T10:13:45-05:00</td>\n",
       "      <td>2</td>\n",
       "      <td>390.84</td>\n",
       "      <td>$390.84</td>\n",
       "      <td>5</td>\n",
       "      <td>5%</td>\n",
       "      <td>card</td>\n",
       "      <td>completed</td>\n",
       "      <td>android</td>\n",
       "      <td>mobile</td>\n",
       "      <td>0</td>\n",
       "    </tr>\n",
       "    <tr>\n",
       "      <th>1497</th>\n",
       "      <td>1498</td>\n",
       "      <td>88</td>\n",
       "      <td>75</td>\n",
       "      <td>9</td>\n",
       "      <td>2025-06-11 22:25:49</td>\n",
       "      <td>2025-06-11T22:25:49</td>\n",
       "      <td>2025-06-11T22:25:49-05:00</td>\n",
       "      <td>1</td>\n",
       "      <td>379.73</td>\n",
       "      <td>$379.73</td>\n",
       "      <td>5</td>\n",
       "      <td>5%</td>\n",
       "      <td>card</td>\n",
       "      <td>completed</td>\n",
       "      <td>android</td>\n",
       "      <td>mobile</td>\n",
       "      <td>0</td>\n",
       "    </tr>\n",
       "    <tr>\n",
       "      <th>1498</th>\n",
       "      <td>1499</td>\n",
       "      <td>209</td>\n",
       "      <td>52</td>\n",
       "      <td>20</td>\n",
       "      <td>2025-05-28 03:49:01</td>\n",
       "      <td>28-May-2025 03:49:01</td>\n",
       "      <td>2025-05-28T03:49:01-05:00</td>\n",
       "      <td>1</td>\n",
       "      <td>226.08</td>\n",
       "      <td>$226.08</td>\n",
       "      <td>0</td>\n",
       "      <td>0%</td>\n",
       "      <td>cash</td>\n",
       "      <td>completed</td>\n",
       "      <td>android</td>\n",
       "      <td>mobile</td>\n",
       "      <td>0</td>\n",
       "    </tr>\n",
       "    <tr>\n",
       "      <th>1499</th>\n",
       "      <td>1500</td>\n",
       "      <td>211</td>\n",
       "      <td>44</td>\n",
       "      <td>6</td>\n",
       "      <td>2024-03-07 13:27:14</td>\n",
       "      <td>2024-03-07T13:27:14</td>\n",
       "      <td>2024-03-07T13:27:14-05:00</td>\n",
       "      <td>5</td>\n",
       "      <td>1194.10</td>\n",
       "      <td>$1,194.10</td>\n",
       "      <td>0</td>\n",
       "      <td>0%</td>\n",
       "      <td>card</td>\n",
       "      <td>completed</td>\n",
       "      <td>android</td>\n",
       "      <td>mobile</td>\n",
       "      <td>1</td>\n",
       "    </tr>\n",
       "  </tbody>\n",
       "</table>\n",
       "<p>1500 rows × 17 columns</p>\n",
       "</div>"
      ],
      "text/plain": [
       "      transaction_id  customer_id  product_id  store_id            timestamp  \\\n",
       "0                  1          258          35         2  2025-05-11 15:46:46   \n",
       "1                  2          208          62        16  2024-01-20 10:14:03   \n",
       "2                  3          115           5        20  2024-07-09 05:06:54   \n",
       "3                  4          288          33        16  2024-04-18 09:10:31   \n",
       "4                  5           66           2         9  2025-06-09 14:35:33   \n",
       "...              ...          ...         ...       ...                  ...   \n",
       "1495            1496          136          37        13  2025-03-05 13:22:13   \n",
       "1496            1497           17          56        18  2024-12-01 10:13:45   \n",
       "1497            1498           88          75         9  2025-06-11 22:25:49   \n",
       "1498            1499          209          52        20  2025-05-28 03:49:01   \n",
       "1499            1500          211          44         6  2024-03-07 13:27:14   \n",
       "\n",
       "                    ts_str                      ts_tz  quantity   amount  \\\n",
       "0      2025-05-11 15:46:46  2025-05-11T15:46:46-05:00         4   770.88   \n",
       "1         2024/01/20 10:14  2024-01-20T10:14:03-05:00         4   954.78   \n",
       "2         09/07/2024 05:06  2024-07-09T05:06:54-05:00         4   711.32   \n",
       "3      2024-04-18 09:10:31  2024-04-18T09:10:31-05:00         4  2887.96   \n",
       "4      2025-06-09T14:35:33  2025-06-09T14:35:33-05:00         1     2.82   \n",
       "...                    ...                        ...       ...      ...   \n",
       "1495  05-Mar-2025 13:22:13  2025-03-05T13:22:13-05:00         1   163.03   \n",
       "1496      01/12/2024 10:13  2024-12-01T10:13:45-05:00         2   390.84   \n",
       "1497   2025-06-11T22:25:49  2025-06-11T22:25:49-05:00         1   379.73   \n",
       "1498  28-May-2025 03:49:01  2025-05-28T03:49:01-05:00         1   226.08   \n",
       "1499   2024-03-07T13:27:14  2024-03-07T13:27:14-05:00         5  1194.10   \n",
       "\n",
       "     amount_str  discount_pct discount_str payment_method     status   device  \\\n",
       "0       $770.88             5           5%         wallet  completed      ios   \n",
       "1       $954.78            10          10%       transfer    pending      web   \n",
       "2       $711.32            10          10%           card  completed  android   \n",
       "3     $2,887.96            10          10%           card  completed      web   \n",
       "4         $2.82             0           0%           card  completed      ios   \n",
       "...         ...           ...          ...            ...        ...      ...   \n",
       "1495    $163.03             0           0%       transfer  completed  android   \n",
       "1496    $390.84             5           5%           card  completed  android   \n",
       "1497    $379.73             5           5%           card  completed  android   \n",
       "1498    $226.08             0           0%           cash  completed  android   \n",
       "1499  $1,194.10             0           0%           card  completed  android   \n",
       "\n",
       "      channel  hi_value_flag  \n",
       "0      mobile              1  \n",
       "1     desktop              1  \n",
       "2      mobile              1  \n",
       "3     desktop              1  \n",
       "4      mobile              0  \n",
       "...       ...            ...  \n",
       "1495   mobile              0  \n",
       "1496   mobile              0  \n",
       "1497   mobile              0  \n",
       "1498   mobile              0  \n",
       "1499   mobile              1  \n",
       "\n",
       "[1500 rows x 17 columns]"
      ]
     },
     "execution_count": 2,
     "metadata": {},
     "output_type": "execute_result"
    }
   ],
   "source": [
    "transactions = pd.read_csv(\"../Transformación de Datos/Datasets/transactions.csv\")\n",
    "transactions"
   ]
  },
  {
   "cell_type": "markdown",
   "id": "328da1c9",
   "metadata": {},
   "source": [
    "## Crosstab"
   ]
  },
  {
   "cell_type": "code",
   "execution_count": 4,
   "id": "ede1e91a",
   "metadata": {},
   "outputs": [
    {
     "data": {
      "application/vnd.microsoft.datawrangler.viewer.v0+json": {
       "columns": [
        {
         "name": "payment_method",
         "rawType": "object",
         "type": "string"
        },
        {
         "name": "completed",
         "rawType": "int64",
         "type": "integer"
        },
        {
         "name": "pending",
         "rawType": "int64",
         "type": "integer"
        },
        {
         "name": "refunded",
         "rawType": "int64",
         "type": "integer"
        }
       ],
       "ref": "9fd5caf6-b481-47f3-ab57-9c702737974c",
       "rows": [
        [
         "card",
         "685",
         "125",
         "32"
        ],
        [
         "cash",
         "238",
         "41",
         "15"
        ],
        [
         "transfer",
         "179",
         "26",
         "13"
        ],
        [
         "wallet",
         "124",
         "17",
         "5"
        ]
       ],
       "shape": {
        "columns": 3,
        "rows": 4
       }
      },
      "text/html": [
       "<div>\n",
       "<style scoped>\n",
       "    .dataframe tbody tr th:only-of-type {\n",
       "        vertical-align: middle;\n",
       "    }\n",
       "\n",
       "    .dataframe tbody tr th {\n",
       "        vertical-align: top;\n",
       "    }\n",
       "\n",
       "    .dataframe thead th {\n",
       "        text-align: right;\n",
       "    }\n",
       "</style>\n",
       "<table border=\"1\" class=\"dataframe\">\n",
       "  <thead>\n",
       "    <tr style=\"text-align: right;\">\n",
       "      <th>status</th>\n",
       "      <th>completed</th>\n",
       "      <th>pending</th>\n",
       "      <th>refunded</th>\n",
       "    </tr>\n",
       "    <tr>\n",
       "      <th>payment_method</th>\n",
       "      <th></th>\n",
       "      <th></th>\n",
       "      <th></th>\n",
       "    </tr>\n",
       "  </thead>\n",
       "  <tbody>\n",
       "    <tr>\n",
       "      <th>card</th>\n",
       "      <td>685</td>\n",
       "      <td>125</td>\n",
       "      <td>32</td>\n",
       "    </tr>\n",
       "    <tr>\n",
       "      <th>cash</th>\n",
       "      <td>238</td>\n",
       "      <td>41</td>\n",
       "      <td>15</td>\n",
       "    </tr>\n",
       "    <tr>\n",
       "      <th>transfer</th>\n",
       "      <td>179</td>\n",
       "      <td>26</td>\n",
       "      <td>13</td>\n",
       "    </tr>\n",
       "    <tr>\n",
       "      <th>wallet</th>\n",
       "      <td>124</td>\n",
       "      <td>17</td>\n",
       "      <td>5</td>\n",
       "    </tr>\n",
       "  </tbody>\n",
       "</table>\n",
       "</div>"
      ],
      "text/plain": [
       "status          completed  pending  refunded\n",
       "payment_method                              \n",
       "card                  685      125        32\n",
       "cash                  238       41        15\n",
       "transfer              179       26        13\n",
       "wallet                124       17         5"
      ]
     },
     "execution_count": 4,
     "metadata": {},
     "output_type": "execute_result"
    }
   ],
   "source": [
    "pd.crosstab(transactions[\"payment_method\"], transactions[\"status\"])"
   ]
  },
  {
   "cell_type": "code",
   "execution_count": 5,
   "id": "065f46a8",
   "metadata": {},
   "outputs": [
    {
     "data": {
      "application/vnd.microsoft.datawrangler.viewer.v0+json": {
       "columns": [
        {
         "name": "device",
         "rawType": "object",
         "type": "string"
        },
        {
         "name": "completed",
         "rawType": "float64",
         "type": "float"
        },
        {
         "name": "pending",
         "rawType": "float64",
         "type": "float"
        },
        {
         "name": "refunded",
         "rawType": "float64",
         "type": "float"
        }
       ],
       "ref": "5da251cd-599d-41ca-95d3-184171310c83",
       "rows": [
        [
         "android",
         "0.826302729528536",
         "0.13895781637717122",
         "0.034739454094292806"
        ],
        [
         "ios",
         "0.8381962864721485",
         "0.1220159151193634",
         "0.03978779840848806"
        ],
        [
         "web",
         "0.8013888888888889",
         "0.1486111111111111",
         "0.05"
        ]
       ],
       "shape": {
        "columns": 3,
        "rows": 3
       }
      },
      "text/html": [
       "<div>\n",
       "<style scoped>\n",
       "    .dataframe tbody tr th:only-of-type {\n",
       "        vertical-align: middle;\n",
       "    }\n",
       "\n",
       "    .dataframe tbody tr th {\n",
       "        vertical-align: top;\n",
       "    }\n",
       "\n",
       "    .dataframe thead th {\n",
       "        text-align: right;\n",
       "    }\n",
       "</style>\n",
       "<table border=\"1\" class=\"dataframe\">\n",
       "  <thead>\n",
       "    <tr style=\"text-align: right;\">\n",
       "      <th>status</th>\n",
       "      <th>completed</th>\n",
       "      <th>pending</th>\n",
       "      <th>refunded</th>\n",
       "    </tr>\n",
       "    <tr>\n",
       "      <th>device</th>\n",
       "      <th></th>\n",
       "      <th></th>\n",
       "      <th></th>\n",
       "    </tr>\n",
       "  </thead>\n",
       "  <tbody>\n",
       "    <tr>\n",
       "      <th>android</th>\n",
       "      <td>0.826303</td>\n",
       "      <td>0.138958</td>\n",
       "      <td>0.034739</td>\n",
       "    </tr>\n",
       "    <tr>\n",
       "      <th>ios</th>\n",
       "      <td>0.838196</td>\n",
       "      <td>0.122016</td>\n",
       "      <td>0.039788</td>\n",
       "    </tr>\n",
       "    <tr>\n",
       "      <th>web</th>\n",
       "      <td>0.801389</td>\n",
       "      <td>0.148611</td>\n",
       "      <td>0.050000</td>\n",
       "    </tr>\n",
       "  </tbody>\n",
       "</table>\n",
       "</div>"
      ],
      "text/plain": [
       "status   completed   pending  refunded\n",
       "device                                \n",
       "android   0.826303  0.138958  0.034739\n",
       "ios       0.838196  0.122016  0.039788\n",
       "web       0.801389  0.148611  0.050000"
      ]
     },
     "execution_count": 5,
     "metadata": {},
     "output_type": "execute_result"
    }
   ],
   "source": [
    "pd.crosstab(transactions[\"device\"], transactions[\"status\"], normalize=\"index\")"
   ]
  },
  {
   "cell_type": "markdown",
   "id": "fe9db251",
   "metadata": {},
   "source": [
    "## Melt"
   ]
  },
  {
   "cell_type": "code",
   "execution_count": 10,
   "id": "9d543f86",
   "metadata": {},
   "outputs": [
    {
     "data": {
      "application/vnd.microsoft.datawrangler.viewer.v0+json": {
       "columns": [
        {
         "name": "index",
         "rawType": "int64",
         "type": "integer"
        },
        {
         "name": "entity_id",
         "rawType": "int64",
         "type": "integer"
        },
        {
         "name": "region",
         "rawType": "object",
         "type": "string"
        },
        {
         "name": "segment",
         "rawType": "object",
         "type": "string"
        },
        {
         "name": "spend_2025_01",
         "rawType": "float64",
         "type": "float"
        },
        {
         "name": "spend_2025_02",
         "rawType": "float64",
         "type": "float"
        },
        {
         "name": "spend_2025_03",
         "rawType": "float64",
         "type": "float"
        }
       ],
       "ref": "c2f9c269-d5dc-4f01-94c1-70d0048736cf",
       "rows": [
        [
         "0",
         "1",
         "North",
         "B",
         "1289.28",
         "225.88",
         "1738.86"
        ],
        [
         "1",
         "2",
         "South",
         "B",
         "1852.42",
         "1918.31",
         "1375.84"
        ],
        [
         "2",
         "3",
         "East",
         "C",
         "167.9",
         "1606.82",
         "1700.66"
        ],
        [
         "3",
         "4",
         "West",
         "B",
         "1556.78",
         "856.79",
         "575.76"
        ],
        [
         "4",
         "5",
         "West",
         "A",
         "1374.35",
         "1966.55",
         "1787.87"
        ],
        [
         "5",
         "6",
         "West",
         "C",
         "194.21",
         "756.52",
         "1535.66"
        ],
        [
         "6",
         "7",
         "South",
         "C",
         "1133.55",
         "807.03",
         "1484.94"
        ],
        [
         "7",
         "8",
         "East",
         "B",
         "1078.61",
         "1258.49",
         "758.43"
        ],
        [
         "8",
         "9",
         "East",
         "C",
         "1413.92",
         "621.26",
         "1786.55"
        ],
        [
         "9",
         "10",
         "West",
         "B",
         "247.31",
         "1427.29",
         "1312.16"
        ],
        [
         "10",
         "11",
         "North",
         "B",
         "1630.03",
         "390.42",
         "1718.5"
        ],
        [
         "11",
         "12",
         "West",
         "B",
         "364.87",
         "305.25",
         "785.85"
        ],
        [
         "12",
         "13",
         "West",
         "B",
         "895.46",
         "1116.27",
         "376.74"
        ],
        [
         "13",
         "14",
         "North",
         "A",
         "1774.45",
         "1155.44",
         "731.44"
        ],
        [
         "14",
         "15",
         "North",
         "B",
         "1165.01",
         "302.64",
         "965.0"
        ],
        [
         "15",
         "16",
         "West",
         "B",
         "821.22",
         "1931.93",
         "1113.47"
        ],
        [
         "16",
         "17",
         "South",
         "A",
         "191.58",
         "1189.24",
         "1070.54"
        ],
        [
         "17",
         "18",
         "South",
         "A",
         "1377.32",
         "386.97",
         "1137.5"
        ],
        [
         "18",
         "19",
         "North",
         "B",
         "1974.44",
         "691.74",
         "1699.24"
        ],
        [
         "19",
         "20",
         "West",
         "B",
         "1832.41",
         "1620.45",
         "423.19"
        ],
        [
         "20",
         "21",
         "South",
         "A",
         "1462.86",
         "1094.14",
         "700.5"
        ],
        [
         "21",
         "22",
         "West",
         "C",
         "300.06",
         "457.48",
         "1788.36"
        ],
        [
         "22",
         "23",
         "West",
         "C",
         "554.94",
         "295.41",
         "1164.87"
        ],
        [
         "23",
         "24",
         "West",
         "A",
         "455.01",
         "918.47",
         "1208.44"
        ],
        [
         "24",
         "25",
         "South",
         "A",
         "775.38",
         "741.09",
         "1008.32"
        ],
        [
         "25",
         "26",
         "East",
         "C",
         "547.48",
         "1346.24",
         "1143.05"
        ],
        [
         "26",
         "27",
         "West",
         "C",
         "564.43",
         "1857.97",
         "476.35"
        ],
        [
         "27",
         "28",
         "South",
         "A",
         "1271.79",
         "570.69",
         "1139.05"
        ],
        [
         "28",
         "29",
         "East",
         "A",
         "705.54",
         "1724.94",
         "1994.63"
        ],
        [
         "29",
         "30",
         "North",
         "A",
         "1386.61",
         "1848.88",
         "1175.49"
        ],
        [
         "30",
         "31",
         "South",
         "B",
         "1900.99",
         "1813.8",
         "184.36"
        ],
        [
         "31",
         "32",
         "East",
         "A",
         "1313.11",
         "1908.95",
         "1613.23"
        ],
        [
         "32",
         "33",
         "South",
         "B",
         "1528.15",
         "1700.01",
         "853.3"
        ],
        [
         "33",
         "34",
         "East",
         "A",
         "1528.0",
         "1227.62",
         "391.98"
        ],
        [
         "34",
         "35",
         "East",
         "C",
         "728.34",
         "878.71",
         "1738.79"
        ],
        [
         "35",
         "36",
         "South",
         "A",
         "128.42",
         "1034.21",
         "476.15"
        ],
        [
         "36",
         "37",
         "North",
         "B",
         "204.59",
         "1757.96",
         "1849.46"
        ],
        [
         "37",
         "38",
         "West",
         "C",
         "635.91",
         "672.66",
         "939.41"
        ],
        [
         "38",
         "39",
         "East",
         "A",
         "1410.13",
         "402.6",
         "1511.3"
        ],
        [
         "39",
         "40",
         "West",
         "A",
         "1822.7",
         "367.56",
         "1139.29"
        ],
        [
         "40",
         "41",
         "North",
         "B",
         "1921.72",
         "1671.29",
         "587.59"
        ],
        [
         "41",
         "42",
         "West",
         "A",
         "149.11",
         "1546.82",
         "1375.07"
        ],
        [
         "42",
         "43",
         "West",
         "C",
         "1981.17",
         "1045.53",
         "1920.03"
        ],
        [
         "43",
         "44",
         "South",
         "A",
         "712.74",
         "622.26",
         "1562.31"
        ],
        [
         "44",
         "45",
         "South",
         "A",
         "1701.62",
         "1387.47",
         "1247.63"
        ],
        [
         "45",
         "46",
         "North",
         "C",
         "442.56",
         "173.02",
         "1982.19"
        ],
        [
         "46",
         "47",
         "South",
         "B",
         "219.51",
         "1179.63",
         "604.12"
        ],
        [
         "47",
         "48",
         "East",
         "B",
         "818.88",
         "857.01",
         "218.45"
        ],
        [
         "48",
         "49",
         "North",
         "A",
         "1731.96",
         "1957.93",
         "161.05"
        ],
        [
         "49",
         "50",
         "South",
         "A",
         "519.57",
         "1064.36",
         "1450.31"
        ]
       ],
       "shape": {
        "columns": 6,
        "rows": 250
       }
      },
      "text/html": [
       "<div>\n",
       "<style scoped>\n",
       "    .dataframe tbody tr th:only-of-type {\n",
       "        vertical-align: middle;\n",
       "    }\n",
       "\n",
       "    .dataframe tbody tr th {\n",
       "        vertical-align: top;\n",
       "    }\n",
       "\n",
       "    .dataframe thead th {\n",
       "        text-align: right;\n",
       "    }\n",
       "</style>\n",
       "<table border=\"1\" class=\"dataframe\">\n",
       "  <thead>\n",
       "    <tr style=\"text-align: right;\">\n",
       "      <th></th>\n",
       "      <th>entity_id</th>\n",
       "      <th>region</th>\n",
       "      <th>segment</th>\n",
       "      <th>spend_2025_01</th>\n",
       "      <th>spend_2025_02</th>\n",
       "      <th>spend_2025_03</th>\n",
       "    </tr>\n",
       "  </thead>\n",
       "  <tbody>\n",
       "    <tr>\n",
       "      <th>0</th>\n",
       "      <td>1</td>\n",
       "      <td>North</td>\n",
       "      <td>B</td>\n",
       "      <td>1289.28</td>\n",
       "      <td>225.88</td>\n",
       "      <td>1738.86</td>\n",
       "    </tr>\n",
       "    <tr>\n",
       "      <th>1</th>\n",
       "      <td>2</td>\n",
       "      <td>South</td>\n",
       "      <td>B</td>\n",
       "      <td>1852.42</td>\n",
       "      <td>1918.31</td>\n",
       "      <td>1375.84</td>\n",
       "    </tr>\n",
       "    <tr>\n",
       "      <th>2</th>\n",
       "      <td>3</td>\n",
       "      <td>East</td>\n",
       "      <td>C</td>\n",
       "      <td>167.90</td>\n",
       "      <td>1606.82</td>\n",
       "      <td>1700.66</td>\n",
       "    </tr>\n",
       "    <tr>\n",
       "      <th>3</th>\n",
       "      <td>4</td>\n",
       "      <td>West</td>\n",
       "      <td>B</td>\n",
       "      <td>1556.78</td>\n",
       "      <td>856.79</td>\n",
       "      <td>575.76</td>\n",
       "    </tr>\n",
       "    <tr>\n",
       "      <th>4</th>\n",
       "      <td>5</td>\n",
       "      <td>West</td>\n",
       "      <td>A</td>\n",
       "      <td>1374.35</td>\n",
       "      <td>1966.55</td>\n",
       "      <td>1787.87</td>\n",
       "    </tr>\n",
       "    <tr>\n",
       "      <th>...</th>\n",
       "      <td>...</td>\n",
       "      <td>...</td>\n",
       "      <td>...</td>\n",
       "      <td>...</td>\n",
       "      <td>...</td>\n",
       "      <td>...</td>\n",
       "    </tr>\n",
       "    <tr>\n",
       "      <th>245</th>\n",
       "      <td>246</td>\n",
       "      <td>South</td>\n",
       "      <td>A</td>\n",
       "      <td>1585.99</td>\n",
       "      <td>863.52</td>\n",
       "      <td>654.33</td>\n",
       "    </tr>\n",
       "    <tr>\n",
       "      <th>246</th>\n",
       "      <td>247</td>\n",
       "      <td>East</td>\n",
       "      <td>C</td>\n",
       "      <td>1112.37</td>\n",
       "      <td>1883.83</td>\n",
       "      <td>1768.85</td>\n",
       "    </tr>\n",
       "    <tr>\n",
       "      <th>247</th>\n",
       "      <td>248</td>\n",
       "      <td>East</td>\n",
       "      <td>C</td>\n",
       "      <td>1287.16</td>\n",
       "      <td>1253.93</td>\n",
       "      <td>637.85</td>\n",
       "    </tr>\n",
       "    <tr>\n",
       "      <th>248</th>\n",
       "      <td>249</td>\n",
       "      <td>South</td>\n",
       "      <td>C</td>\n",
       "      <td>1977.36</td>\n",
       "      <td>400.94</td>\n",
       "      <td>1631.50</td>\n",
       "    </tr>\n",
       "    <tr>\n",
       "      <th>249</th>\n",
       "      <td>250</td>\n",
       "      <td>South</td>\n",
       "      <td>C</td>\n",
       "      <td>933.00</td>\n",
       "      <td>1054.08</td>\n",
       "      <td>497.82</td>\n",
       "    </tr>\n",
       "  </tbody>\n",
       "</table>\n",
       "<p>250 rows × 6 columns</p>\n",
       "</div>"
      ],
      "text/plain": [
       "     entity_id region segment  spend_2025_01  spend_2025_02  spend_2025_03\n",
       "0            1  North       B        1289.28         225.88        1738.86\n",
       "1            2  South       B        1852.42        1918.31        1375.84\n",
       "2            3   East       C         167.90        1606.82        1700.66\n",
       "3            4   West       B        1556.78         856.79         575.76\n",
       "4            5   West       A        1374.35        1966.55        1787.87\n",
       "..         ...    ...     ...            ...            ...            ...\n",
       "245        246  South       A        1585.99         863.52         654.33\n",
       "246        247   East       C        1112.37        1883.83        1768.85\n",
       "247        248   East       C        1287.16        1253.93         637.85\n",
       "248        249  South       C        1977.36         400.94        1631.50\n",
       "249        250  South       C         933.00        1054.08         497.82\n",
       "\n",
       "[250 rows x 6 columns]"
      ]
     },
     "execution_count": 10,
     "metadata": {},
     "output_type": "execute_result"
    }
   ],
   "source": [
    "wide"
   ]
  },
  {
   "cell_type": "code",
   "execution_count": 9,
   "id": "4c6b1bb7",
   "metadata": {},
   "outputs": [
    {
     "data": {
      "application/vnd.microsoft.datawrangler.viewer.v0+json": {
       "columns": [
        {
         "name": "index",
         "rawType": "int64",
         "type": "integer"
        },
        {
         "name": "entity_id",
         "rawType": "int64",
         "type": "integer"
        },
        {
         "name": "region",
         "rawType": "object",
         "type": "string"
        },
        {
         "name": "segment",
         "rawType": "object",
         "type": "string"
        },
        {
         "name": "mes",
         "rawType": "object",
         "type": "string"
        },
        {
         "name": "spend",
         "rawType": "float64",
         "type": "float"
        }
       ],
       "ref": "d9bdb162-bfe2-4007-9429-4a84a77c2464",
       "rows": [
        [
         "0",
         "1",
         "North",
         "B",
         "spend_2025_01",
         "1289.28"
        ],
        [
         "1",
         "2",
         "South",
         "B",
         "spend_2025_01",
         "1852.42"
        ],
        [
         "2",
         "3",
         "East",
         "C",
         "spend_2025_01",
         "167.9"
        ],
        [
         "3",
         "4",
         "West",
         "B",
         "spend_2025_01",
         "1556.78"
        ],
        [
         "4",
         "5",
         "West",
         "A",
         "spend_2025_01",
         "1374.35"
        ],
        [
         "5",
         "6",
         "West",
         "C",
         "spend_2025_01",
         "194.21"
        ],
        [
         "6",
         "7",
         "South",
         "C",
         "spend_2025_01",
         "1133.55"
        ],
        [
         "7",
         "8",
         "East",
         "B",
         "spend_2025_01",
         "1078.61"
        ],
        [
         "8",
         "9",
         "East",
         "C",
         "spend_2025_01",
         "1413.92"
        ],
        [
         "9",
         "10",
         "West",
         "B",
         "spend_2025_01",
         "247.31"
        ],
        [
         "10",
         "11",
         "North",
         "B",
         "spend_2025_01",
         "1630.03"
        ],
        [
         "11",
         "12",
         "West",
         "B",
         "spend_2025_01",
         "364.87"
        ],
        [
         "12",
         "13",
         "West",
         "B",
         "spend_2025_01",
         "895.46"
        ],
        [
         "13",
         "14",
         "North",
         "A",
         "spend_2025_01",
         "1774.45"
        ],
        [
         "14",
         "15",
         "North",
         "B",
         "spend_2025_01",
         "1165.01"
        ],
        [
         "15",
         "16",
         "West",
         "B",
         "spend_2025_01",
         "821.22"
        ],
        [
         "16",
         "17",
         "South",
         "A",
         "spend_2025_01",
         "191.58"
        ],
        [
         "17",
         "18",
         "South",
         "A",
         "spend_2025_01",
         "1377.32"
        ],
        [
         "18",
         "19",
         "North",
         "B",
         "spend_2025_01",
         "1974.44"
        ],
        [
         "19",
         "20",
         "West",
         "B",
         "spend_2025_01",
         "1832.41"
        ],
        [
         "20",
         "21",
         "South",
         "A",
         "spend_2025_01",
         "1462.86"
        ],
        [
         "21",
         "22",
         "West",
         "C",
         "spend_2025_01",
         "300.06"
        ],
        [
         "22",
         "23",
         "West",
         "C",
         "spend_2025_01",
         "554.94"
        ],
        [
         "23",
         "24",
         "West",
         "A",
         "spend_2025_01",
         "455.01"
        ],
        [
         "24",
         "25",
         "South",
         "A",
         "spend_2025_01",
         "775.38"
        ],
        [
         "25",
         "26",
         "East",
         "C",
         "spend_2025_01",
         "547.48"
        ],
        [
         "26",
         "27",
         "West",
         "C",
         "spend_2025_01",
         "564.43"
        ],
        [
         "27",
         "28",
         "South",
         "A",
         "spend_2025_01",
         "1271.79"
        ],
        [
         "28",
         "29",
         "East",
         "A",
         "spend_2025_01",
         "705.54"
        ],
        [
         "29",
         "30",
         "North",
         "A",
         "spend_2025_01",
         "1386.61"
        ],
        [
         "30",
         "31",
         "South",
         "B",
         "spend_2025_01",
         "1900.99"
        ],
        [
         "31",
         "32",
         "East",
         "A",
         "spend_2025_01",
         "1313.11"
        ],
        [
         "32",
         "33",
         "South",
         "B",
         "spend_2025_01",
         "1528.15"
        ],
        [
         "33",
         "34",
         "East",
         "A",
         "spend_2025_01",
         "1528.0"
        ],
        [
         "34",
         "35",
         "East",
         "C",
         "spend_2025_01",
         "728.34"
        ],
        [
         "35",
         "36",
         "South",
         "A",
         "spend_2025_01",
         "128.42"
        ],
        [
         "36",
         "37",
         "North",
         "B",
         "spend_2025_01",
         "204.59"
        ],
        [
         "37",
         "38",
         "West",
         "C",
         "spend_2025_01",
         "635.91"
        ],
        [
         "38",
         "39",
         "East",
         "A",
         "spend_2025_01",
         "1410.13"
        ],
        [
         "39",
         "40",
         "West",
         "A",
         "spend_2025_01",
         "1822.7"
        ],
        [
         "40",
         "41",
         "North",
         "B",
         "spend_2025_01",
         "1921.72"
        ],
        [
         "41",
         "42",
         "West",
         "A",
         "spend_2025_01",
         "149.11"
        ],
        [
         "42",
         "43",
         "West",
         "C",
         "spend_2025_01",
         "1981.17"
        ],
        [
         "43",
         "44",
         "South",
         "A",
         "spend_2025_01",
         "712.74"
        ],
        [
         "44",
         "45",
         "South",
         "A",
         "spend_2025_01",
         "1701.62"
        ],
        [
         "45",
         "46",
         "North",
         "C",
         "spend_2025_01",
         "442.56"
        ],
        [
         "46",
         "47",
         "South",
         "B",
         "spend_2025_01",
         "219.51"
        ],
        [
         "47",
         "48",
         "East",
         "B",
         "spend_2025_01",
         "818.88"
        ],
        [
         "48",
         "49",
         "North",
         "A",
         "spend_2025_01",
         "1731.96"
        ],
        [
         "49",
         "50",
         "South",
         "A",
         "spend_2025_01",
         "519.57"
        ]
       ],
       "shape": {
        "columns": 5,
        "rows": 750
       }
      },
      "text/html": [
       "<div>\n",
       "<style scoped>\n",
       "    .dataframe tbody tr th:only-of-type {\n",
       "        vertical-align: middle;\n",
       "    }\n",
       "\n",
       "    .dataframe tbody tr th {\n",
       "        vertical-align: top;\n",
       "    }\n",
       "\n",
       "    .dataframe thead th {\n",
       "        text-align: right;\n",
       "    }\n",
       "</style>\n",
       "<table border=\"1\" class=\"dataframe\">\n",
       "  <thead>\n",
       "    <tr style=\"text-align: right;\">\n",
       "      <th></th>\n",
       "      <th>entity_id</th>\n",
       "      <th>region</th>\n",
       "      <th>segment</th>\n",
       "      <th>mes</th>\n",
       "      <th>spend</th>\n",
       "    </tr>\n",
       "  </thead>\n",
       "  <tbody>\n",
       "    <tr>\n",
       "      <th>0</th>\n",
       "      <td>1</td>\n",
       "      <td>North</td>\n",
       "      <td>B</td>\n",
       "      <td>spend_2025_01</td>\n",
       "      <td>1289.28</td>\n",
       "    </tr>\n",
       "    <tr>\n",
       "      <th>1</th>\n",
       "      <td>2</td>\n",
       "      <td>South</td>\n",
       "      <td>B</td>\n",
       "      <td>spend_2025_01</td>\n",
       "      <td>1852.42</td>\n",
       "    </tr>\n",
       "    <tr>\n",
       "      <th>2</th>\n",
       "      <td>3</td>\n",
       "      <td>East</td>\n",
       "      <td>C</td>\n",
       "      <td>spend_2025_01</td>\n",
       "      <td>167.90</td>\n",
       "    </tr>\n",
       "    <tr>\n",
       "      <th>3</th>\n",
       "      <td>4</td>\n",
       "      <td>West</td>\n",
       "      <td>B</td>\n",
       "      <td>spend_2025_01</td>\n",
       "      <td>1556.78</td>\n",
       "    </tr>\n",
       "    <tr>\n",
       "      <th>4</th>\n",
       "      <td>5</td>\n",
       "      <td>West</td>\n",
       "      <td>A</td>\n",
       "      <td>spend_2025_01</td>\n",
       "      <td>1374.35</td>\n",
       "    </tr>\n",
       "    <tr>\n",
       "      <th>...</th>\n",
       "      <td>...</td>\n",
       "      <td>...</td>\n",
       "      <td>...</td>\n",
       "      <td>...</td>\n",
       "      <td>...</td>\n",
       "    </tr>\n",
       "    <tr>\n",
       "      <th>745</th>\n",
       "      <td>246</td>\n",
       "      <td>South</td>\n",
       "      <td>A</td>\n",
       "      <td>spend_2025_03</td>\n",
       "      <td>654.33</td>\n",
       "    </tr>\n",
       "    <tr>\n",
       "      <th>746</th>\n",
       "      <td>247</td>\n",
       "      <td>East</td>\n",
       "      <td>C</td>\n",
       "      <td>spend_2025_03</td>\n",
       "      <td>1768.85</td>\n",
       "    </tr>\n",
       "    <tr>\n",
       "      <th>747</th>\n",
       "      <td>248</td>\n",
       "      <td>East</td>\n",
       "      <td>C</td>\n",
       "      <td>spend_2025_03</td>\n",
       "      <td>637.85</td>\n",
       "    </tr>\n",
       "    <tr>\n",
       "      <th>748</th>\n",
       "      <td>249</td>\n",
       "      <td>South</td>\n",
       "      <td>C</td>\n",
       "      <td>spend_2025_03</td>\n",
       "      <td>1631.50</td>\n",
       "    </tr>\n",
       "    <tr>\n",
       "      <th>749</th>\n",
       "      <td>250</td>\n",
       "      <td>South</td>\n",
       "      <td>C</td>\n",
       "      <td>spend_2025_03</td>\n",
       "      <td>497.82</td>\n",
       "    </tr>\n",
       "  </tbody>\n",
       "</table>\n",
       "<p>750 rows × 5 columns</p>\n",
       "</div>"
      ],
      "text/plain": [
       "     entity_id region segment            mes    spend\n",
       "0            1  North       B  spend_2025_01  1289.28\n",
       "1            2  South       B  spend_2025_01  1852.42\n",
       "2            3   East       C  spend_2025_01   167.90\n",
       "3            4   West       B  spend_2025_01  1556.78\n",
       "4            5   West       A  spend_2025_01  1374.35\n",
       "..         ...    ...     ...            ...      ...\n",
       "745        246  South       A  spend_2025_03   654.33\n",
       "746        247   East       C  spend_2025_03  1768.85\n",
       "747        248   East       C  spend_2025_03   637.85\n",
       "748        249  South       C  spend_2025_03  1631.50\n",
       "749        250  South       C  spend_2025_03   497.82\n",
       "\n",
       "[750 rows x 5 columns]"
      ]
     },
     "execution_count": 9,
     "metadata": {},
     "output_type": "execute_result"
    }
   ],
   "source": [
    "pd.melt(wide, id_vars=[\"entity_id\",\"region\",\"segment\"],\n",
    "        var_name=\"mes\", value_name=\"spend\")"
   ]
  },
  {
   "cell_type": "markdown",
   "id": "7746bf9a",
   "metadata": {},
   "source": [
    "## .loc"
   ]
  },
  {
   "cell_type": "code",
   "execution_count": 13,
   "id": "043e93cc",
   "metadata": {},
   "outputs": [
    {
     "data": {
      "application/vnd.microsoft.datawrangler.viewer.v0+json": {
       "columns": [
        {
         "name": "index",
         "rawType": "int64",
         "type": "integer"
        },
        {
         "name": "first_name",
         "rawType": "object",
         "type": "string"
        },
        {
         "name": "loyalty_tier",
         "rawType": "object",
         "type": "string"
        }
       ],
       "ref": "4698357a-a32b-4808-9ca4-f240c95d4f0a",
       "rows": [
        [
         "8",
         "Laura",
         "Silver"
        ],
        [
         "13",
         "Daniel",
         "Bronze"
        ],
        [
         "21",
         "Felipe",
         "Bronze"
        ],
        [
         "24",
         "Mónica",
         "Bronze"
        ],
        [
         "26",
         "Tomás",
         "Gold"
        ],
        [
         "52",
         "Luis",
         "Bronze"
        ],
        [
         "57",
         "Daniel",
         "Bronze"
        ],
        [
         "70",
         "Diana",
         "Bronze"
        ],
        [
         "83",
         "Sara",
         "Silver"
        ],
        [
         "107",
         "Diana",
         "Bronze"
        ],
        [
         "123",
         "Carlos",
         "Gold"
        ],
        [
         "125",
         "Sofía",
         "Bronze"
        ],
        [
         "126",
         "Paula",
         "Gold"
        ],
        [
         "132",
         "Mónica",
         "Bronze"
        ],
        [
         "144",
         "Tomás",
         "Silver"
        ],
        [
         "147",
         "María",
         "Silver"
        ],
        [
         "153",
         "Ana",
         "Bronze"
        ],
        [
         "162",
         "Tomás",
         "Bronze"
        ],
        [
         "185",
         "Lucía",
         "Gold"
        ],
        [
         "187",
         "Luis",
         "Bronze"
        ],
        [
         "189",
         "Laura",
         "Gold"
        ],
        [
         "190",
         "Felipe",
         "Bronze"
        ],
        [
         "207",
         "Miguel",
         "Bronze"
        ],
        [
         "213",
         "Juan",
         "Gold"
        ],
        [
         "216",
         "Sofía",
         "Bronze"
        ],
        [
         "223",
         "Felipe",
         "Bronze"
        ],
        [
         "252",
         "Felipe",
         "Silver"
        ],
        [
         "261",
         "Miguel",
         "Bronze"
        ],
        [
         "270",
         "Jorge",
         "Silver"
        ],
        [
         "278",
         "Ana",
         "Bronze"
        ]
       ],
       "shape": {
        "columns": 2,
        "rows": 30
       }
      },
      "text/html": [
       "<div>\n",
       "<style scoped>\n",
       "    .dataframe tbody tr th:only-of-type {\n",
       "        vertical-align: middle;\n",
       "    }\n",
       "\n",
       "    .dataframe tbody tr th {\n",
       "        vertical-align: top;\n",
       "    }\n",
       "\n",
       "    .dataframe thead th {\n",
       "        text-align: right;\n",
       "    }\n",
       "</style>\n",
       "<table border=\"1\" class=\"dataframe\">\n",
       "  <thead>\n",
       "    <tr style=\"text-align: right;\">\n",
       "      <th></th>\n",
       "      <th>first_name</th>\n",
       "      <th>loyalty_tier</th>\n",
       "    </tr>\n",
       "  </thead>\n",
       "  <tbody>\n",
       "    <tr>\n",
       "      <th>8</th>\n",
       "      <td>Laura</td>\n",
       "      <td>Silver</td>\n",
       "    </tr>\n",
       "    <tr>\n",
       "      <th>13</th>\n",
       "      <td>Daniel</td>\n",
       "      <td>Bronze</td>\n",
       "    </tr>\n",
       "    <tr>\n",
       "      <th>21</th>\n",
       "      <td>Felipe</td>\n",
       "      <td>Bronze</td>\n",
       "    </tr>\n",
       "    <tr>\n",
       "      <th>24</th>\n",
       "      <td>Mónica</td>\n",
       "      <td>Bronze</td>\n",
       "    </tr>\n",
       "    <tr>\n",
       "      <th>26</th>\n",
       "      <td>Tomás</td>\n",
       "      <td>Gold</td>\n",
       "    </tr>\n",
       "    <tr>\n",
       "      <th>52</th>\n",
       "      <td>Luis</td>\n",
       "      <td>Bronze</td>\n",
       "    </tr>\n",
       "    <tr>\n",
       "      <th>57</th>\n",
       "      <td>Daniel</td>\n",
       "      <td>Bronze</td>\n",
       "    </tr>\n",
       "    <tr>\n",
       "      <th>70</th>\n",
       "      <td>Diana</td>\n",
       "      <td>Bronze</td>\n",
       "    </tr>\n",
       "    <tr>\n",
       "      <th>83</th>\n",
       "      <td>Sara</td>\n",
       "      <td>Silver</td>\n",
       "    </tr>\n",
       "    <tr>\n",
       "      <th>107</th>\n",
       "      <td>Diana</td>\n",
       "      <td>Bronze</td>\n",
       "    </tr>\n",
       "    <tr>\n",
       "      <th>123</th>\n",
       "      <td>Carlos</td>\n",
       "      <td>Gold</td>\n",
       "    </tr>\n",
       "    <tr>\n",
       "      <th>125</th>\n",
       "      <td>Sofía</td>\n",
       "      <td>Bronze</td>\n",
       "    </tr>\n",
       "    <tr>\n",
       "      <th>126</th>\n",
       "      <td>Paula</td>\n",
       "      <td>Gold</td>\n",
       "    </tr>\n",
       "    <tr>\n",
       "      <th>132</th>\n",
       "      <td>Mónica</td>\n",
       "      <td>Bronze</td>\n",
       "    </tr>\n",
       "    <tr>\n",
       "      <th>144</th>\n",
       "      <td>Tomás</td>\n",
       "      <td>Silver</td>\n",
       "    </tr>\n",
       "    <tr>\n",
       "      <th>147</th>\n",
       "      <td>María</td>\n",
       "      <td>Silver</td>\n",
       "    </tr>\n",
       "    <tr>\n",
       "      <th>153</th>\n",
       "      <td>Ana</td>\n",
       "      <td>Bronze</td>\n",
       "    </tr>\n",
       "    <tr>\n",
       "      <th>162</th>\n",
       "      <td>Tomás</td>\n",
       "      <td>Bronze</td>\n",
       "    </tr>\n",
       "    <tr>\n",
       "      <th>185</th>\n",
       "      <td>Lucía</td>\n",
       "      <td>Gold</td>\n",
       "    </tr>\n",
       "    <tr>\n",
       "      <th>187</th>\n",
       "      <td>Luis</td>\n",
       "      <td>Bronze</td>\n",
       "    </tr>\n",
       "    <tr>\n",
       "      <th>189</th>\n",
       "      <td>Laura</td>\n",
       "      <td>Gold</td>\n",
       "    </tr>\n",
       "    <tr>\n",
       "      <th>190</th>\n",
       "      <td>Felipe</td>\n",
       "      <td>Bronze</td>\n",
       "    </tr>\n",
       "    <tr>\n",
       "      <th>207</th>\n",
       "      <td>Miguel</td>\n",
       "      <td>Bronze</td>\n",
       "    </tr>\n",
       "    <tr>\n",
       "      <th>213</th>\n",
       "      <td>Juan</td>\n",
       "      <td>Gold</td>\n",
       "    </tr>\n",
       "    <tr>\n",
       "      <th>216</th>\n",
       "      <td>Sofía</td>\n",
       "      <td>Bronze</td>\n",
       "    </tr>\n",
       "    <tr>\n",
       "      <th>223</th>\n",
       "      <td>Felipe</td>\n",
       "      <td>Bronze</td>\n",
       "    </tr>\n",
       "    <tr>\n",
       "      <th>252</th>\n",
       "      <td>Felipe</td>\n",
       "      <td>Silver</td>\n",
       "    </tr>\n",
       "    <tr>\n",
       "      <th>261</th>\n",
       "      <td>Miguel</td>\n",
       "      <td>Bronze</td>\n",
       "    </tr>\n",
       "    <tr>\n",
       "      <th>270</th>\n",
       "      <td>Jorge</td>\n",
       "      <td>Silver</td>\n",
       "    </tr>\n",
       "    <tr>\n",
       "      <th>278</th>\n",
       "      <td>Ana</td>\n",
       "      <td>Bronze</td>\n",
       "    </tr>\n",
       "  </tbody>\n",
       "</table>\n",
       "</div>"
      ],
      "text/plain": [
       "    first_name loyalty_tier\n",
       "8        Laura       Silver\n",
       "13      Daniel       Bronze\n",
       "21      Felipe       Bronze\n",
       "24      Mónica       Bronze\n",
       "26       Tomás         Gold\n",
       "52        Luis       Bronze\n",
       "57      Daniel       Bronze\n",
       "70       Diana       Bronze\n",
       "83        Sara       Silver\n",
       "107      Diana       Bronze\n",
       "123     Carlos         Gold\n",
       "125      Sofía       Bronze\n",
       "126      Paula         Gold\n",
       "132     Mónica       Bronze\n",
       "144      Tomás       Silver\n",
       "147      María       Silver\n",
       "153        Ana       Bronze\n",
       "162      Tomás       Bronze\n",
       "185      Lucía         Gold\n",
       "187       Luis       Bronze\n",
       "189      Laura         Gold\n",
       "190     Felipe       Bronze\n",
       "207     Miguel       Bronze\n",
       "213       Juan         Gold\n",
       "216      Sofía       Bronze\n",
       "223     Felipe       Bronze\n",
       "252     Felipe       Silver\n",
       "261     Miguel       Bronze\n",
       "270      Jorge       Silver\n",
       "278        Ana       Bronze"
      ]
     },
     "execution_count": 13,
     "metadata": {},
     "output_type": "execute_result"
    }
   ],
   "source": [
    "customers.loc[customers[\"city\"]==\"Medellín\", [\"first_name\",\"loyalty_tier\"]]"
   ]
  },
  {
   "cell_type": "markdown",
   "id": "1b0b383c",
   "metadata": {},
   "source": [
    "## .query"
   ]
  },
  {
   "cell_type": "code",
   "execution_count": 15,
   "id": "4933a475",
   "metadata": {},
   "outputs": [
    {
     "data": {
      "application/vnd.microsoft.datawrangler.viewer.v0+json": {
       "columns": [
        {
         "name": "index",
         "rawType": "int64",
         "type": "integer"
        },
        {
         "name": "transaction_id",
         "rawType": "int64",
         "type": "integer"
        },
        {
         "name": "amount",
         "rawType": "float64",
         "type": "float"
        }
       ],
       "ref": "c4b05a0f-65fe-4103-ae27-09dfbf804130",
       "rows": [
        [
         "0",
         "1",
         "770.88"
        ],
        [
         "2",
         "3",
         "711.32"
        ],
        [
         "3",
         "4",
         "2887.96"
        ],
        [
         "6",
         "7",
         "695.14"
        ],
        [
         "7",
         "8",
         "857.59"
        ],
        [
         "8",
         "9",
         "795.81"
        ],
        [
         "13",
         "14",
         "1306.99"
        ],
        [
         "14",
         "15",
         "807.3"
        ],
        [
         "23",
         "24",
         "1142.75"
        ],
        [
         "26",
         "27",
         "1577.65"
        ],
        [
         "28",
         "29",
         "646.33"
        ],
        [
         "35",
         "36",
         "597.57"
        ],
        [
         "38",
         "39",
         "806.57"
        ],
        [
         "40",
         "41",
         "590.39"
        ],
        [
         "48",
         "49",
         "581.36"
        ],
        [
         "56",
         "57",
         "532.45"
        ],
        [
         "60",
         "61",
         "3947.29"
        ],
        [
         "61",
         "62",
         "2425.74"
        ],
        [
         "62",
         "63",
         "839.25"
        ],
        [
         "65",
         "66",
         "1010.28"
        ],
        [
         "68",
         "69",
         "1002.18"
        ],
        [
         "73",
         "74",
         "669.19"
        ],
        [
         "75",
         "76",
         "3434.14"
        ],
        [
         "77",
         "78",
         "609.62"
        ],
        [
         "78",
         "79",
         "1361.85"
        ],
        [
         "79",
         "80",
         "524.76"
        ],
        [
         "84",
         "85",
         "574.38"
        ],
        [
         "87",
         "88",
         "2262.78"
        ],
        [
         "91",
         "92",
         "539.37"
        ],
        [
         "96",
         "97",
         "524.88"
        ],
        [
         "104",
         "105",
         "702.01"
        ],
        [
         "110",
         "111",
         "722.45"
        ],
        [
         "113",
         "114",
         "531.79"
        ],
        [
         "119",
         "120",
         "1580.78"
        ],
        [
         "120",
         "121",
         "1401.9"
        ],
        [
         "122",
         "123",
         "558.87"
        ],
        [
         "123",
         "124",
         "3353.66"
        ],
        [
         "124",
         "125",
         "549.67"
        ],
        [
         "135",
         "136",
         "516.72"
        ],
        [
         "145",
         "146",
         "572.31"
        ],
        [
         "152",
         "153",
         "575.28"
        ],
        [
         "155",
         "156",
         "703.88"
        ],
        [
         "160",
         "161",
         "559.08"
        ],
        [
         "163",
         "164",
         "965.7"
        ],
        [
         "164",
         "165",
         "1045.36"
        ],
        [
         "166",
         "167",
         "592.68"
        ],
        [
         "170",
         "171",
         "1531.4"
        ],
        [
         "171",
         "172",
         "760.1"
        ],
        [
         "187",
         "188",
         "612.09"
        ],
        [
         "188",
         "189",
         "1263.17"
        ]
       ],
       "shape": {
        "columns": 2,
        "rows": 431
       }
      },
      "text/html": [
       "<div>\n",
       "<style scoped>\n",
       "    .dataframe tbody tr th:only-of-type {\n",
       "        vertical-align: middle;\n",
       "    }\n",
       "\n",
       "    .dataframe tbody tr th {\n",
       "        vertical-align: top;\n",
       "    }\n",
       "\n",
       "    .dataframe thead th {\n",
       "        text-align: right;\n",
       "    }\n",
       "</style>\n",
       "<table border=\"1\" class=\"dataframe\">\n",
       "  <thead>\n",
       "    <tr style=\"text-align: right;\">\n",
       "      <th></th>\n",
       "      <th>transaction_id</th>\n",
       "      <th>amount</th>\n",
       "    </tr>\n",
       "  </thead>\n",
       "  <tbody>\n",
       "    <tr>\n",
       "      <th>0</th>\n",
       "      <td>1</td>\n",
       "      <td>770.88</td>\n",
       "    </tr>\n",
       "    <tr>\n",
       "      <th>2</th>\n",
       "      <td>3</td>\n",
       "      <td>711.32</td>\n",
       "    </tr>\n",
       "    <tr>\n",
       "      <th>3</th>\n",
       "      <td>4</td>\n",
       "      <td>2887.96</td>\n",
       "    </tr>\n",
       "    <tr>\n",
       "      <th>6</th>\n",
       "      <td>7</td>\n",
       "      <td>695.14</td>\n",
       "    </tr>\n",
       "    <tr>\n",
       "      <th>7</th>\n",
       "      <td>8</td>\n",
       "      <td>857.59</td>\n",
       "    </tr>\n",
       "    <tr>\n",
       "      <th>...</th>\n",
       "      <td>...</td>\n",
       "      <td>...</td>\n",
       "    </tr>\n",
       "    <tr>\n",
       "      <th>1473</th>\n",
       "      <td>1474</td>\n",
       "      <td>3222.25</td>\n",
       "    </tr>\n",
       "    <tr>\n",
       "      <th>1474</th>\n",
       "      <td>1475</td>\n",
       "      <td>972.22</td>\n",
       "    </tr>\n",
       "    <tr>\n",
       "      <th>1491</th>\n",
       "      <td>1492</td>\n",
       "      <td>970.66</td>\n",
       "    </tr>\n",
       "    <tr>\n",
       "      <th>1493</th>\n",
       "      <td>1494</td>\n",
       "      <td>722.50</td>\n",
       "    </tr>\n",
       "    <tr>\n",
       "      <th>1499</th>\n",
       "      <td>1500</td>\n",
       "      <td>1194.10</td>\n",
       "    </tr>\n",
       "  </tbody>\n",
       "</table>\n",
       "<p>431 rows × 2 columns</p>\n",
       "</div>"
      ],
      "text/plain": [
       "      transaction_id   amount\n",
       "0                  1   770.88\n",
       "2                  3   711.32\n",
       "3                  4  2887.96\n",
       "6                  7   695.14\n",
       "7                  8   857.59\n",
       "...              ...      ...\n",
       "1473            1474  3222.25\n",
       "1474            1475   972.22\n",
       "1491            1492   970.66\n",
       "1493            1494   722.50\n",
       "1499            1500  1194.10\n",
       "\n",
       "[431 rows x 2 columns]"
      ]
     },
     "execution_count": 15,
     "metadata": {},
     "output_type": "execute_result"
    }
   ],
   "source": [
    "transactions.query(\"amount > 500 and status == 'completed'\")[[\"transaction_id\", \"amount\"]]"
   ]
  },
  {
   "cell_type": "markdown",
   "id": "43ff834b",
   "metadata": {},
   "source": [
    "## np.where"
   ]
  },
  {
   "cell_type": "code",
   "execution_count": 17,
   "id": "b6cad2ea",
   "metadata": {},
   "outputs": [
    {
     "data": {
      "application/vnd.microsoft.datawrangler.viewer.v0+json": {
       "columns": [
        {
         "name": "index",
         "rawType": "int64",
         "type": "integer"
        },
        {
         "name": "segmento",
         "rawType": "object",
         "type": "string"
        }
       ],
       "ref": "b890810c-7359-4c5a-b31b-ecb703b3ff21",
       "rows": [
        [
         "0",
         "ALTO"
        ],
        [
         "1",
         "ALTO"
        ],
        [
         "2",
         "ALTO"
        ],
        [
         "3",
         "ALTO"
        ],
        [
         "4",
         "BAJO"
        ],
        [
         "5",
         "BAJO"
        ],
        [
         "6",
         "ALTO"
        ],
        [
         "7",
         "ALTO"
        ],
        [
         "8",
         "ALTO"
        ],
        [
         "9",
         "BAJO"
        ],
        [
         "10",
         "BAJO"
        ],
        [
         "11",
         "BAJO"
        ],
        [
         "12",
         "BAJO"
        ],
        [
         "13",
         "ALTO"
        ],
        [
         "14",
         "ALTO"
        ],
        [
         "15",
         "BAJO"
        ],
        [
         "16",
         "BAJO"
        ],
        [
         "17",
         "BAJO"
        ],
        [
         "18",
         "BAJO"
        ],
        [
         "19",
         "BAJO"
        ],
        [
         "20",
         "BAJO"
        ],
        [
         "21",
         "BAJO"
        ],
        [
         "22",
         "BAJO"
        ],
        [
         "23",
         "ALTO"
        ],
        [
         "24",
         "BAJO"
        ],
        [
         "25",
         "BAJO"
        ],
        [
         "26",
         "ALTO"
        ],
        [
         "27",
         "BAJO"
        ],
        [
         "28",
         "ALTO"
        ],
        [
         "29",
         "BAJO"
        ],
        [
         "30",
         "BAJO"
        ],
        [
         "31",
         "BAJO"
        ],
        [
         "32",
         "BAJO"
        ],
        [
         "33",
         "BAJO"
        ],
        [
         "34",
         "ALTO"
        ],
        [
         "35",
         "ALTO"
        ],
        [
         "36",
         "BAJO"
        ],
        [
         "37",
         "ALTO"
        ],
        [
         "38",
         "ALTO"
        ],
        [
         "39",
         "BAJO"
        ],
        [
         "40",
         "ALTO"
        ],
        [
         "41",
         "BAJO"
        ],
        [
         "42",
         "BAJO"
        ],
        [
         "43",
         "BAJO"
        ],
        [
         "44",
         "BAJO"
        ],
        [
         "45",
         "BAJO"
        ],
        [
         "46",
         "BAJO"
        ],
        [
         "47",
         "BAJO"
        ],
        [
         "48",
         "ALTO"
        ],
        [
         "49",
         "BAJO"
        ]
       ],
       "shape": {
        "columns": 1,
        "rows": 1500
       }
      },
      "text/plain": [
       "0       ALTO\n",
       "1       ALTO\n",
       "2       ALTO\n",
       "3       ALTO\n",
       "4       BAJO\n",
       "        ... \n",
       "1495    BAJO\n",
       "1496    BAJO\n",
       "1497    BAJO\n",
       "1498    BAJO\n",
       "1499    ALTO\n",
       "Name: segmento, Length: 1500, dtype: object"
      ]
     },
     "execution_count": 17,
     "metadata": {},
     "output_type": "execute_result"
    }
   ],
   "source": [
    "transactions[\"segmento\"] = np.where(transactions[\"amount\"]>500,\"ALTO\",\"BAJO\")\n",
    "transactions[\"segmento\"]"
   ]
  },
  {
   "cell_type": "markdown",
   "id": "3fda71b0",
   "metadata": {},
   "source": [
    "## np.select"
   ]
  },
  {
   "cell_type": "code",
   "execution_count": 18,
   "id": "d38b6f84",
   "metadata": {},
   "outputs": [
    {
     "data": {
      "application/vnd.microsoft.datawrangler.viewer.v0+json": {
       "columns": [
        {
         "name": "index",
         "rawType": "int64",
         "type": "integer"
        },
        {
         "name": "categoria",
         "rawType": "object",
         "type": "string"
        }
       ],
       "ref": "c41c88ca-8c77-48d3-8a18-fd35e8865871",
       "rows": [
        [
         "0",
         "MEDIO"
        ],
        [
         "1",
         "MEDIO"
        ],
        [
         "2",
         "MEDIO"
        ],
        [
         "3",
         "PREMIUM"
        ],
        [
         "4",
         "BASICO"
        ],
        [
         "5",
         "BASICO"
        ],
        [
         "6",
         "MEDIO"
        ],
        [
         "7",
         "MEDIO"
        ],
        [
         "8",
         "MEDIO"
        ],
        [
         "9",
         "BASICO"
        ],
        [
         "10",
         "BASICO"
        ],
        [
         "11",
         "BASICO"
        ],
        [
         "12",
         "BASICO"
        ],
        [
         "13",
         "PREMIUM"
        ],
        [
         "14",
         "MEDIO"
        ],
        [
         "15",
         "BASICO"
        ],
        [
         "16",
         "BASICO"
        ],
        [
         "17",
         "BASICO"
        ],
        [
         "18",
         "BASICO"
        ],
        [
         "19",
         "BASICO"
        ],
        [
         "20",
         "BASICO"
        ],
        [
         "21",
         "BASICO"
        ],
        [
         "22",
         "BASICO"
        ],
        [
         "23",
         "PREMIUM"
        ],
        [
         "24",
         "BASICO"
        ],
        [
         "25",
         "BASICO"
        ],
        [
         "26",
         "PREMIUM"
        ],
        [
         "27",
         "BASICO"
        ],
        [
         "28",
         "MEDIO"
        ],
        [
         "29",
         "BASICO"
        ],
        [
         "30",
         "BASICO"
        ],
        [
         "31",
         "BASICO"
        ],
        [
         "32",
         "BASICO"
        ],
        [
         "33",
         "BASICO"
        ],
        [
         "34",
         "MEDIO"
        ],
        [
         "35",
         "MEDIO"
        ],
        [
         "36",
         "BASICO"
        ],
        [
         "37",
         "PREMIUM"
        ],
        [
         "38",
         "MEDIO"
        ],
        [
         "39",
         "BASICO"
        ],
        [
         "40",
         "MEDIO"
        ],
        [
         "41",
         "BASICO"
        ],
        [
         "42",
         "BASICO"
        ],
        [
         "43",
         "BASICO"
        ],
        [
         "44",
         "BASICO"
        ],
        [
         "45",
         "BASICO"
        ],
        [
         "46",
         "BASICO"
        ],
        [
         "47",
         "BASICO"
        ],
        [
         "48",
         "MEDIO"
        ],
        [
         "49",
         "BASICO"
        ]
       ],
       "shape": {
        "columns": 1,
        "rows": 1500
       }
      },
      "text/plain": [
       "0         MEDIO\n",
       "1         MEDIO\n",
       "2         MEDIO\n",
       "3       PREMIUM\n",
       "4        BASICO\n",
       "         ...   \n",
       "1495     BASICO\n",
       "1496     BASICO\n",
       "1497     BASICO\n",
       "1498     BASICO\n",
       "1499    PREMIUM\n",
       "Name: categoria, Length: 1500, dtype: object"
      ]
     },
     "execution_count": 18,
     "metadata": {},
     "output_type": "execute_result"
    }
   ],
   "source": [
    "conds = [\n",
    "    transactions[\"amount\"] >= 1000,\n",
    "    transactions[\"amount\"].between(500,999),\n",
    "    transactions[\"amount\"] < 500\n",
    "]\n",
    "choices = [\"PREMIUM\",\"MEDIO\",\"BASICO\"]\n",
    "\n",
    "transactions[\"categoria\"] = np.select(conds, choices, default=\"OTRO\")\n",
    "transactions[\"categoria\"]"
   ]
  },
  {
   "cell_type": "markdown",
   "id": "e2ba6f81",
   "metadata": {},
   "source": [
    "## .assign"
   ]
  },
  {
   "cell_type": "code",
   "execution_count": 20,
   "id": "32a96195",
   "metadata": {},
   "outputs": [
    {
     "data": {
      "application/vnd.microsoft.datawrangler.viewer.v0+json": {
       "columns": [
        {
         "name": "index",
         "rawType": "int64",
         "type": "integer"
        },
        {
         "name": "monto_usd",
         "rawType": "float64",
         "type": "float"
        }
       ],
       "ref": "18132c6c-43c1-4724-b4f5-3186e7dcbf97",
       "rows": [
        [
         "0",
         "0.19272"
        ],
        [
         "1",
         "0.238695"
        ],
        [
         "2",
         "0.17783000000000002"
        ],
        [
         "3",
         "0.72199"
        ],
        [
         "4",
         "0.000705"
        ],
        [
         "5",
         "0.06793500000000001"
        ],
        [
         "6",
         "0.173785"
        ],
        [
         "7",
         "0.21439750000000002"
        ],
        [
         "8",
         "0.1989525"
        ],
        [
         "9",
         "0.11973"
        ],
        [
         "10",
         "0.0332275"
        ],
        [
         "11",
         "0.0492775"
        ],
        [
         "12",
         "0.0989675"
        ],
        [
         "13",
         "0.3267475"
        ],
        [
         "14",
         "0.201825"
        ],
        [
         "15",
         "0.0073575"
        ],
        [
         "16",
         "0.0076725000000000005"
        ],
        [
         "17",
         "0.10763"
        ],
        [
         "18",
         "0.0181725"
        ],
        [
         "19",
         "0.0123475"
        ],
        [
         "20",
         "0.0221925"
        ],
        [
         "21",
         "0.0007975"
        ],
        [
         "22",
         "0.007785"
        ],
        [
         "23",
         "0.2856875"
        ],
        [
         "24",
         "0.0008325"
        ],
        [
         "25",
         "0.1238675"
        ],
        [
         "26",
         "0.39441250000000005"
        ],
        [
         "27",
         "0.0807475"
        ],
        [
         "28",
         "0.16158250000000002"
        ],
        [
         "29",
         "0.018690000000000002"
        ],
        [
         "30",
         "0.024184999999999998"
        ],
        [
         "31",
         "0.1152775"
        ],
        [
         "32",
         "0.0013700000000000001"
        ],
        [
         "33",
         "0.11449250000000001"
        ],
        [
         "34",
         "0.1917625"
        ],
        [
         "35",
         "0.1493925"
        ],
        [
         "36",
         "0.051665"
        ],
        [
         "37",
         "0.6606375000000001"
        ],
        [
         "38",
         "0.20164250000000003"
        ],
        [
         "39",
         "0.0923375"
        ],
        [
         "40",
         "0.1475975"
        ],
        [
         "41",
         "0.008552500000000001"
        ],
        [
         "42",
         "0.10984000000000001"
        ],
        [
         "43",
         "0.0515875"
        ],
        [
         "44",
         "0.02042"
        ],
        [
         "45",
         "0.035015000000000004"
        ],
        [
         "46",
         "0.104735"
        ],
        [
         "47",
         "0.0178725"
        ],
        [
         "48",
         "0.14534"
        ],
        [
         "49",
         "0.0344275"
        ]
       ],
       "shape": {
        "columns": 1,
        "rows": 1500
       }
      },
      "text/plain": [
       "0       0.192720\n",
       "1       0.238695\n",
       "2       0.177830\n",
       "3       0.721990\n",
       "4       0.000705\n",
       "          ...   \n",
       "1495    0.040758\n",
       "1496    0.097710\n",
       "1497    0.094933\n",
       "1498    0.056520\n",
       "1499    0.298525\n",
       "Name: monto_usd, Length: 1500, dtype: float64"
      ]
     },
     "execution_count": 20,
     "metadata": {},
     "output_type": "execute_result"
    }
   ],
   "source": [
    "transactions = (\n",
    "    transactions\n",
    "    .assign(\n",
    "        monto_usd = transactions[\"amount\"] * 0.00025,\n",
    "        is_mobile = transactions[\"device\"].isin([\"ios\",\"android\"])\n",
    "    )\n",
    ")\n",
    "transactions[\"monto_usd\"]"
   ]
  }
 ],
 "metadata": {
  "kernelspec": {
   "display_name": "data",
   "language": "python",
   "name": "python3"
  },
  "language_info": {
   "codemirror_mode": {
    "name": "ipython",
    "version": 3
   },
   "file_extension": ".py",
   "mimetype": "text/x-python",
   "name": "python",
   "nbconvert_exporter": "python",
   "pygments_lexer": "ipython3",
   "version": "3.13.5"
  }
 },
 "nbformat": 4,
 "nbformat_minor": 5
}
