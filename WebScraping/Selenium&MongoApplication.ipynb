{
 "cells": [
  {
   "cell_type": "code",
   "execution_count": 20,
   "id": "da263168",
   "metadata": {},
   "outputs": [],
   "source": [
    "from selenium import webdriver\n",
    "from selenium.webdriver.common.by import By\n",
    "from selenium.webdriver.chrome.service import Service\n",
    "from selenium.webdriver.chrome.options import Options\n",
    "from selenium.webdriver.support.ui import WebDriverWait\n",
    "from selenium.webdriver.support import expected_conditions as EC\n",
    "from selenium.common.exceptions import TimeoutException, NoSuchElementException\n",
    "from webdriver_manager.chrome import ChromeDriverManager\n",
    "\n",
    "from bs4 import BeautifulSoup\n",
    "import pandas as pd\n",
    "import re"
   ]
  },
  {
   "cell_type": "code",
   "execution_count": 28,
   "id": "654ba55e",
   "metadata": {},
   "outputs": [],
   "source": [
    "PRICE_RE      = re.compile(r'\\$\\s*\\d{1,3}(?:\\.\\d{3})+(?:,\\d+)?')\n",
    "DISCOUNT_RE   = re.compile(r'(\\d{1,2})\\s*%\\s*OFF', re.I)\n",
    "SENTENCE_SPLIT_RE = re.compile(r'\\.(?=\\s*[A-ZÁÉÍÓÚÑ])') "
   ]
  },
  {
   "cell_type": "code",
   "execution_count": null,
   "id": "1f82e03f",
   "metadata": {},
   "outputs": [
    {
     "name": "stdout",
     "output_type": "stream",
     "text": [
      "[{'precio': '$2.108.344', 'descuento': '13% OFF', 'cuotas': '12 cuotas de $175.695 con 0% interés', 'informacion': ['Capacidad total del módulo de memoria RAM: 16 GB', 'Modelo del procesador: 13420H', 'Marca del procesador: Intel', 'Sistema operativo: Windows 11 Pro.']}, {'precio': '$1.569.899', 'descuento': '30% OFF', 'cuotas': '3 cuotas de $523.300 con 0% interés', 'informacion': ['Con pantalla táctil: No', 'Conexión wifi y bluetooth', 'Incluye lector de tarjeta de memoria', 'Posee pad numérico.']}, {'precio': '$2.108.344', 'descuento': '13% OFF', 'cuotas': '12 cuotas de $175.695 con 0% interés', 'informacion': ['Capacidad total del módulo de memoria RAM: 16 GB', 'Modelo del procesador: 13420H', 'Marca del procesador: Intel', 'Sistema operativo: Windows 11 Pro.']}, {'precio': '$1.579.900', 'descuento': '32% OFF', 'cuotas': '3 cuotas de $526.633 con 0% interés', 'informacion': 'No informacion found'}, {'precio': '$2.183.445', 'descuento': '45% OFF', 'cuotas': '3 cuotas de $727.815 con 0% interés', 'informacion': ['Capacidad de disco SSD: 512 GB', 'Capacidad del disco duro: 0 MB', 'Capacidad total del módulo de memoria RAM: 8 GB', 'Pantalla LED Full HD', ' Sistema operativo Windows 11 Home', 'Con cámara web FullHD', 'Tiene micrófono incorporado', 'Se conecta por Bluetooth a otros dispositivos y al Wi-Fi', 'Tiene puerto Ethernet.']}]\n"
     ]
    }
   ],
   "source": [
    "service = Service(ChromeDriverManager().install())\n",
    "driver = webdriver.Chrome(service=service)\n",
    "driver.get('https://www.mercadolibre.com.co/')\n",
    "\n",
    "# Espera hasta que el input esté presente\n",
    "wait = WebDriverWait(driver, 10)\n",
    "search_box = wait.until(EC.presence_of_element_located((By.XPATH, '//*[@id=\"cb1-edit\"]')))\n",
    "\n",
    "# Escribe en el campo de búsqueda\n",
    "search_box.send_keys('computador')\n",
    "\n",
    "# Espera hasta que el botón esté presente y haz clic\n",
    "search_button = wait.until(EC.element_to_be_clickable((By.XPATH, '/html/body/header/div/div[2]/form/button')))\n",
    "search_button.click()\n",
    "\n",
    "wait.until(EC.presence_of_element_located((By.CSS_SELECTOR, 'li.ui-search-layout__item')))\n",
    "\n",
    "# Parsear con BeautifulSoup\n",
    "html = driver.page_source\n",
    "soup = BeautifulSoup(html, 'html.parser')\n",
    "\n",
    "# Selecciona todos los items\n",
    "items = soup.select('li.ui-search-layout__item')\n",
    "\n",
    "contador = 0\n",
    "productos = []\n",
    "\n",
    "for item in items:\n",
    "    link = item.select_one('a.poly-component__title')\n",
    "    driver.switch_to.new_window()\n",
    "    driver.get(link[\"href\"])\n",
    "    \n",
    "    wait.until(EC.presence_of_element_located((By.CSS_SELECTOR, 'div.ui-pdp-container.ui-pdp-container--pdp')))\n",
    "    \n",
    "    # Parsear con BeautifulSoup\n",
    "    html = driver.page_source\n",
    "    soup = BeautifulSoup(html, 'html.parser')\n",
    "    \n",
    "    price = soup.select_one('div.ui-pdp-price__second-line')    \n",
    "    cuotas = soup.select_one('div.ui-pdp-price__subtitles')\n",
    "    informacion = soup.select_one('ul.ui-vpp-highlighted-specs__features-list')\n",
    "    \n",
    "    m_price = PRICE_RE.search(price.text) if price else None\n",
    "    m_discount = DISCOUNT_RE.search(price.text) if price else None\n",
    "    m_informacion = SENTENCE_SPLIT_RE.split(informacion.text) if informacion else None\n",
    "    \n",
    "    producto = {\n",
    "        \"precio\": m_price.group(0) if m_price else 'No price found',\n",
    "        \"descuento\": m_discount.group(0) if m_discount else 'No discount found',\n",
    "        \"cuotas\": cuotas.text if cuotas else 'No cuotas found',\n",
    "        \"informacion\": m_informacion if m_informacion else 'No informacion found'\n",
    "    }\n",
    "\n",
    "    productos.append(producto)\n",
    "\n",
    "    contador += 1\n",
    "    \n",
    "    if contador >= 20:\n",
    "        break\n",
    "\n",
    "driver.quit()"
   ]
  },
  {
   "cell_type": "code",
   "execution_count": 16,
   "id": "beb32cac",
   "metadata": {},
   "outputs": [],
   "source": [
    "from pymongo import MongoClient\n",
    "from datetime import datetime\n",
    "import pprint"
   ]
  },
  {
   "cell_type": "code",
   "execution_count": 36,
   "id": "b49504ab",
   "metadata": {},
   "outputs": [
    {
     "ename": "BulkWriteError",
     "evalue": "batch op errors occurred, full error: {'writeErrors': [{'index': 0, 'code': 11000, 'errmsg': \"E11000 duplicate key error collection: Meli.coleccion index: _id_ dup key: { _id: ObjectId('689b4dd08f71c1dba9f896f0') }\", 'keyPattern': {'_id': 1}, 'keyValue': {'_id': ObjectId('689b4dd08f71c1dba9f896f0')}, 'op': {'precio': '$2.108.344', 'descuento': '13% OFF', 'cuotas': '12 cuotas de $175.695 con 0% interés', 'informacion': ['Capacidad total del módulo de memoria RAM: 16 GB', 'Modelo del procesador: 13420H', 'Marca del procesador: Intel', 'Sistema operativo: Windows 11 Pro.'], '_id': ObjectId('689b4dd08f71c1dba9f896f0')}}], 'writeConcernErrors': [], 'nInserted': 0, 'nUpserted': 0, 'nMatched': 0, 'nModified': 0, 'nRemoved': 0, 'upserted': []}",
     "output_type": "error",
     "traceback": [
      "\u001b[31m---------------------------------------------------------------------------\u001b[39m",
      "\u001b[31mBulkWriteError\u001b[39m                            Traceback (most recent call last)",
      "\u001b[36mCell\u001b[39m\u001b[36m \u001b[39m\u001b[32mIn[36]\u001b[39m\u001b[32m, line 6\u001b[39m\n\u001b[32m      3\u001b[39m db = client[\u001b[33m\"\u001b[39m\u001b[33mMeli\u001b[39m\u001b[33m\"\u001b[39m]\n\u001b[32m      4\u001b[39m collection = db[\u001b[33m\"\u001b[39m\u001b[33mcoleccion\u001b[39m\u001b[33m\"\u001b[39m]\n\u001b[32m----> \u001b[39m\u001b[32m6\u001b[39m result = \u001b[43mcollection\u001b[49m\u001b[43m.\u001b[49m\u001b[43minsert_many\u001b[49m\u001b[43m(\u001b[49m\u001b[43mproductos\u001b[49m\u001b[43m)\u001b[49m\n\u001b[32m      7\u001b[39m \u001b[38;5;28mprint\u001b[39m(\u001b[33m\"\u001b[39m\u001b[33mIDs insertados:\u001b[39m\u001b[33m\"\u001b[39m, result.inserted_ids)\n",
      "\u001b[36mFile \u001b[39m\u001b[32m~/anaconda3/envs/data/lib/python3.13/site-packages/pymongo/_csot.py:125\u001b[39m, in \u001b[36mapply.<locals>.csot_wrapper\u001b[39m\u001b[34m(self, *args, **kwargs)\u001b[39m\n\u001b[32m    123\u001b[39m         \u001b[38;5;28;01mwith\u001b[39;00m _TimeoutContext(timeout):\n\u001b[32m    124\u001b[39m             \u001b[38;5;28;01mreturn\u001b[39;00m func(\u001b[38;5;28mself\u001b[39m, *args, **kwargs)\n\u001b[32m--> \u001b[39m\u001b[32m125\u001b[39m \u001b[38;5;28;01mreturn\u001b[39;00m \u001b[43mfunc\u001b[49m\u001b[43m(\u001b[49m\u001b[38;5;28;43mself\u001b[39;49m\u001b[43m,\u001b[49m\u001b[43m \u001b[49m\u001b[43m*\u001b[49m\u001b[43margs\u001b[49m\u001b[43m,\u001b[49m\u001b[43m \u001b[49m\u001b[43m*\u001b[49m\u001b[43m*\u001b[49m\u001b[43mkwargs\u001b[49m\u001b[43m)\u001b[49m\n",
      "\u001b[36mFile \u001b[39m\u001b[32m~/anaconda3/envs/data/lib/python3.13/site-packages/pymongo/synchronous/collection.py:975\u001b[39m, in \u001b[36mCollection.insert_many\u001b[39m\u001b[34m(self, documents, ordered, bypass_document_validation, session, comment)\u001b[39m\n\u001b[32m    973\u001b[39m blk = _Bulk(\u001b[38;5;28mself\u001b[39m, ordered, bypass_document_validation, comment=comment)\n\u001b[32m    974\u001b[39m blk.ops = \u001b[38;5;28mlist\u001b[39m(gen())\n\u001b[32m--> \u001b[39m\u001b[32m975\u001b[39m \u001b[43mblk\u001b[49m\u001b[43m.\u001b[49m\u001b[43mexecute\u001b[49m\u001b[43m(\u001b[49m\u001b[43mwrite_concern\u001b[49m\u001b[43m,\u001b[49m\u001b[43m \u001b[49m\u001b[43msession\u001b[49m\u001b[43m,\u001b[49m\u001b[43m \u001b[49m\u001b[43m_Op\u001b[49m\u001b[43m.\u001b[49m\u001b[43mINSERT\u001b[49m\u001b[43m)\u001b[49m\n\u001b[32m    976\u001b[39m \u001b[38;5;28;01mreturn\u001b[39;00m InsertManyResult(inserted_ids, write_concern.acknowledged)\n",
      "\u001b[36mFile \u001b[39m\u001b[32m~/anaconda3/envs/data/lib/python3.13/site-packages/pymongo/synchronous/bulk.py:751\u001b[39m, in \u001b[36m_Bulk.execute\u001b[39m\u001b[34m(self, write_concern, session, operation)\u001b[39m\n\u001b[32m    749\u001b[39m         \u001b[38;5;28;01mreturn\u001b[39;00m \u001b[38;5;28;01mNone\u001b[39;00m\n\u001b[32m    750\u001b[39m \u001b[38;5;28;01melse\u001b[39;00m:\n\u001b[32m--> \u001b[39m\u001b[32m751\u001b[39m     \u001b[38;5;28;01mreturn\u001b[39;00m \u001b[38;5;28;43mself\u001b[39;49m\u001b[43m.\u001b[49m\u001b[43mexecute_command\u001b[49m\u001b[43m(\u001b[49m\u001b[43mgenerator\u001b[49m\u001b[43m,\u001b[49m\u001b[43m \u001b[49m\u001b[43mwrite_concern\u001b[49m\u001b[43m,\u001b[49m\u001b[43m \u001b[49m\u001b[43msession\u001b[49m\u001b[43m,\u001b[49m\u001b[43m \u001b[49m\u001b[43moperation\u001b[49m\u001b[43m)\u001b[49m\n",
      "\u001b[36mFile \u001b[39m\u001b[32m~/anaconda3/envs/data/lib/python3.13/site-packages/pymongo/synchronous/bulk.py:614\u001b[39m, in \u001b[36m_Bulk.execute_command\u001b[39m\u001b[34m(self, generator, write_concern, session, operation)\u001b[39m\n\u001b[32m    604\u001b[39m _ = client._retryable_write(\n\u001b[32m    605\u001b[39m     \u001b[38;5;28mself\u001b[39m.is_retryable,\n\u001b[32m    606\u001b[39m     retryable_bulk,\n\u001b[32m   (...)\u001b[39m\u001b[32m    610\u001b[39m     operation_id=op_id,\n\u001b[32m    611\u001b[39m )\n\u001b[32m    613\u001b[39m \u001b[38;5;28;01mif\u001b[39;00m full_result[\u001b[33m\"\u001b[39m\u001b[33mwriteErrors\u001b[39m\u001b[33m\"\u001b[39m] \u001b[38;5;129;01mor\u001b[39;00m full_result[\u001b[33m\"\u001b[39m\u001b[33mwriteConcernErrors\u001b[39m\u001b[33m\"\u001b[39m]:\n\u001b[32m--> \u001b[39m\u001b[32m614\u001b[39m     \u001b[43m_raise_bulk_write_error\u001b[49m\u001b[43m(\u001b[49m\u001b[43mfull_result\u001b[49m\u001b[43m)\u001b[49m\n\u001b[32m    615\u001b[39m \u001b[38;5;28;01mreturn\u001b[39;00m full_result\n",
      "\u001b[36mFile \u001b[39m\u001b[32m~/anaconda3/envs/data/lib/python3.13/site-packages/pymongo/bulk_shared.py:131\u001b[39m, in \u001b[36m_raise_bulk_write_error\u001b[39m\u001b[34m(full_result)\u001b[39m\n\u001b[32m    125\u001b[39m         errmsg = (\n\u001b[32m    126\u001b[39m             \u001b[33m\"\u001b[39m\u001b[33mThis MongoDB deployment does not support \u001b[39m\u001b[33m\"\u001b[39m\n\u001b[32m    127\u001b[39m             \u001b[33m\"\u001b[39m\u001b[33mretryable writes. Please add retryWrites=false \u001b[39m\u001b[33m\"\u001b[39m\n\u001b[32m    128\u001b[39m             \u001b[33m\"\u001b[39m\u001b[33mto your connection string.\u001b[39m\u001b[33m\"\u001b[39m\n\u001b[32m    129\u001b[39m         )\n\u001b[32m    130\u001b[39m         \u001b[38;5;28;01mraise\u001b[39;00m OperationFailure(errmsg, code, full_result)\n\u001b[32m--> \u001b[39m\u001b[32m131\u001b[39m \u001b[38;5;28;01mraise\u001b[39;00m BulkWriteError(full_result)\n",
      "\u001b[31mBulkWriteError\u001b[39m: batch op errors occurred, full error: {'writeErrors': [{'index': 0, 'code': 11000, 'errmsg': \"E11000 duplicate key error collection: Meli.coleccion index: _id_ dup key: { _id: ObjectId('689b4dd08f71c1dba9f896f0') }\", 'keyPattern': {'_id': 1}, 'keyValue': {'_id': ObjectId('689b4dd08f71c1dba9f896f0')}, 'op': {'precio': '$2.108.344', 'descuento': '13% OFF', 'cuotas': '12 cuotas de $175.695 con 0% interés', 'informacion': ['Capacidad total del módulo de memoria RAM: 16 GB', 'Modelo del procesador: 13420H', 'Marca del procesador: Intel', 'Sistema operativo: Windows 11 Pro.'], '_id': ObjectId('689b4dd08f71c1dba9f896f0')}}], 'writeConcernErrors': [], 'nInserted': 0, 'nUpserted': 0, 'nMatched': 0, 'nModified': 0, 'nRemoved': 0, 'upserted': []}"
     ]
    }
   ],
   "source": [
    "client = MongoClient(\"localhost:27017\")\n",
    "\n",
    "db = client[\"Meli\"]\n",
    "collection = db[\"coleccion\"]\n",
    "\n",
    "result = collection.insert_many(productos)\n",
    "print(\"IDs insertados:\", result.inserted_ids)"
   ]
  },
  {
   "cell_type": "code",
   "execution_count": null,
   "id": "e5eccaa8",
   "metadata": {},
   "outputs": [],
   "source": [
    "for doc in collection.find():\n",
    "    pprint.pprint(doc)"
   ]
  },
  {
   "cell_type": "code",
   "execution_count": null,
   "id": "7742c101",
   "metadata": {},
   "outputs": [],
   "source": [
    "for doc in collection.find({\"descuento\": {\"$gt\": \"15\"}}):\n",
    "    pprint.pprint(doc)"
   ]
  }
 ],
 "metadata": {
  "kernelspec": {
   "display_name": "data",
   "language": "python",
   "name": "python3"
  },
  "language_info": {
   "codemirror_mode": {
    "name": "ipython",
    "version": 3
   },
   "file_extension": ".py",
   "mimetype": "text/x-python",
   "name": "python",
   "nbconvert_exporter": "python",
   "pygments_lexer": "ipython3",
   "version": "3.13.5"
  }
 },
 "nbformat": 4,
 "nbformat_minor": 5
}
